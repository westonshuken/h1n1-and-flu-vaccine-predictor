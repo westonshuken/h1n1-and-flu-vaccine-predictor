{
 "cells": [
  {
   "cell_type": "markdown",
   "metadata": {},
   "source": [
    "# Grid Search \n",
    "##### Authors: Czarina Luna, Weston Shuken, Justin Sohn"
   ]
  },
  {
   "cell_type": "code",
   "execution_count": 1,
   "metadata": {},
   "outputs": [],
   "source": [
    "import pandas as pd\n",
    "import numpy as np\n",
    "\n",
    "labels = pd.read_csv('data/training_set_labels.csv')\n",
    "features = pd.read_csv('data/training_set_features.csv')\n",
    "data = pd.merge(labels, features, on=\"respondent_id\").drop(columns=['respondent_id', 'seasonal_vaccine'])\n",
    "target_variable = 'h1n1_vaccine'"
   ]
  },
  {
   "cell_type": "code",
   "execution_count": 2,
   "metadata": {},
   "outputs": [],
   "source": [
    "import time\n",
    "\n",
    "from sklearn.preprocessing import FunctionTransformer, StandardScaler, OneHotEncoder\n",
    "from sklearn.pipeline import Pipeline\n",
    "from sklearn.impute import SimpleImputer\n",
    "from sklearn.compose import ColumnTransformer\n",
    "from sklearn.model_selection import train_test_split, GridSearchCV\n",
    "from sklearn.metrics import precision_score, roc_auc_score\n",
    "from sklearn.linear_model import LogisticRegression\n",
    "from sklearn.tree import DecisionTreeClassifier\n",
    "from sklearn.ensemble import RandomForestClassifier, ExtraTreesClassifier, GradientBoostingClassifier\n",
    "\n",
    "import warnings\n",
    "warnings.filterwarnings('ignore')"
   ]
  },
  {
   "cell_type": "code",
   "execution_count": 3,
   "metadata": {},
   "outputs": [],
   "source": [
    "def grab_numeric(df):\n",
    "    return df.select_dtypes(['float64', 'int64'])\n",
    "\n",
    "GrabNumeric = FunctionTransformer(grab_numeric)"
   ]
  },
  {
   "cell_type": "code",
   "execution_count": 4,
   "metadata": {},
   "outputs": [],
   "source": [
    "numeric_transformer = Pipeline(\n",
    "    steps=[('grab_num', GrabNumeric), \n",
    "           ('num_impute', SimpleImputer(strategy='median', add_indicator=True)), \n",
    "           ('scaler', StandardScaler())])\n",
    "\n",
    "categorical_transformer = Pipeline(\n",
    "    steps=[('cat_impute', SimpleImputer(strategy='most_frequent')),\n",
    "           ('ohe', OneHotEncoder(sparse=False, handle_unknown='ignore'))])"
   ]
  },
  {
   "cell_type": "code",
   "execution_count": 5,
   "metadata": {},
   "outputs": [],
   "source": [
    "num_features = list(range(0, 21)) + [31, 32]\n",
    "cat_features = list(range(21, 31)) + [33, 34]\n",
    "\n",
    "preprocessor = ColumnTransformer(\n",
    "    transformers=[\n",
    "        (\"num\", numeric_transformer, num_features),\n",
    "        (\"cat\", categorical_transformer, cat_features)], remainder='passthrough')"
   ]
  },
  {
   "cell_type": "code",
   "execution_count": 6,
   "metadata": {},
   "outputs": [],
   "source": [
    "baseline = {'LogisticRegression':\n",
    "              {'classifier': LogisticRegression(random_state=20220124, max_iter=1000),\n",
    "               'preprocessor': preprocessor,\n",
    "               'output': None,\n",
    "               'fit_classifier': None,\n",
    "               'time_ran' : None\n",
    "              },\n",
    "          'DecisionTree':\n",
    "              {'classifier': DecisionTreeClassifier(random_state=20211122),\n",
    "               'preprocessor': preprocessor,\n",
    "               'output': None,\n",
    "               'fit_classifier': None,\n",
    "               'time_ran': None\n",
    "              },\n",
    "          'RandomForest':\n",
    "              {'classifier': RandomForestClassifier(random_state=10151997),\n",
    "               'preprocessor': preprocessor,\n",
    "               'output': None,\n",
    "               'fit_classifier': None,\n",
    "               'time_ran': None\n",
    "              },\n",
    "          'ExtraTrees':\n",
    "              {'classifier': ExtraTreesClassifier(random_state=20220125),\n",
    "                'preprocessor': preprocessor,\n",
    "                'output': None,\n",
    "                'fit_classifier': None,\n",
    "                'time_ran': None\n",
    "              },\n",
    "          'GradientBoost':\n",
    "              {'classifier': GradientBoostingClassifier(random_state=20220126),\n",
    "               'preprocessor': preprocessor,\n",
    "               'output': None,\n",
    "               'fit_classifier': None,\n",
    "               'time_ran': None\n",
    "              }\n",
    "         }"
   ]
  },
  {
   "cell_type": "code",
   "execution_count": 7,
   "metadata": {},
   "outputs": [],
   "source": [
    "def data_split(df=data, target=target_variable):\n",
    "    X = df.drop(columns=target)\n",
    "    y = df[target]\n",
    "    X_train, X_test, y_train, y_test = train_test_split(X, y, test_size=0.25, random_state=20211122)\n",
    "    return X_train, X_test, y_train, y_test"
   ]
  },
  {
   "cell_type": "code",
   "execution_count": 8,
   "metadata": {},
   "outputs": [],
   "source": [
    "tuned_models = {}\n",
    "\n",
    "def run_gridsearch(params, name, models=baseline, df=data, target=target_variable, score='precision'):\n",
    "    X_train, X_test, y_train, y_test = data_split(df, target)\n",
    "    for model, grid in params.items():\n",
    "        print(model, 'Grid Search:')\n",
    "        print(f'Time Started: {time.asctime()}')\n",
    "        pipe = Pipeline(steps=[('col_transformer', models[model]['preprocessor']), \n",
    "                               ('classifier', models[model]['classifier'])])\n",
    "        gridsearch = GridSearchCV(estimator=pipe, param_grid=grid, scoring=score, cv=5)\n",
    "        gridsearch.fit(X_train, y_train)\n",
    "        print(f'Time Finished: {time.asctime()}')\n",
    "        print(f'Cross validation scores: {gridsearch.cv_results_[\"mean_test_score\"]}')\n",
    "        print(f'Best cross validation score: {gridsearch.best_score_ :.2%}')\n",
    "        print(f'Optimal parameters: {gridsearch.best_params_}')\n",
    "        tuned_models[name] = gridsearch.best_params_"
   ]
  },
  {
   "cell_type": "markdown",
   "metadata": {},
   "source": [
    "#### Logistic Regression Grid Search\n"
   ]
  },
  {
   "cell_type": "code",
   "execution_count": 9,
   "metadata": {},
   "outputs": [
    {
     "name": "stdout",
     "output_type": "stream",
     "text": [
      "LogisticRegression Grid Search:\n",
      "Time Started: Tue Jan 25 23:18:27 2022\n",
      "Time Finished: Tue Jan 25 23:22:01 2022\n",
      "Cross validation scores: [0.77332602 0.77332602 0.74772373 0.74772373 0.71925031 0.71916672\n",
      " 0.71888022 0.71861734 0.71407182 0.71372367 0.71427612 0.71392797]\n",
      "Best cross validation score: 77.33%\n",
      "Optimal parameters: {'classifier__C': 0.001, 'classifier__fit_intercept': True, 'classifier__solver': 'lbfgs'}\n"
     ]
    }
   ],
   "source": [
    "params_lr1 = {'LogisticRegression': [{\n",
    "    'classifier__C':[0.001, 0.1, 1],\n",
    "    'classifier__solver':['lbfgs', 'saga'],\n",
    "    'classifier__fit_intercept':[True, False]\n",
    "}]}\n",
    "run_gridsearch(params_lr1, name='LogisticRegression1')"
   ]
  },
  {
   "cell_type": "code",
   "execution_count": 10,
   "metadata": {},
   "outputs": [
    {
     "name": "stdout",
     "output_type": "stream",
     "text": [
      "Stored 'lr_best_params' (dict)\n"
     ]
    }
   ],
   "source": [
    "lr_best_params = tuned_models['LogisticRegression1']\n",
    "%store lr_best_params"
   ]
  },
  {
   "cell_type": "markdown",
   "metadata": {},
   "source": [
    "#### Decision Tree Grid Search\n"
   ]
  },
  {
   "cell_type": "code",
   "execution_count": 11,
   "metadata": {},
   "outputs": [
    {
     "name": "stdout",
     "output_type": "stream",
     "text": [
      "DecisionTree Grid Search:\n",
      "Time Started: Tue Jan 25 23:22:01 2022\n",
      "Time Finished: Tue Jan 25 23:25:18 2022\n",
      "Cross validation scores: [0.69209944 0.67199346 0.69209944 0.67199346 0.69209944 0.67199346\n",
      " 0.69209944 0.67199346 0.69817178 0.68696053 0.69822572 0.68438469\n",
      " 0.6990221  0.68339598 0.6990221  0.68339598 0.6440812  0.63539554\n",
      " 0.65072552 0.65842927 0.65167811 0.65212296 0.65167811 0.65212296\n",
      " 0.56625373 0.55760735 0.58655187 0.57344712 0.60218401 0.59621774\n",
      " 0.60218401 0.59621774 0.69209944 0.67199346 0.69209944 0.67199346\n",
      " 0.69209944 0.67199346 0.69209944 0.67199346 0.6934849  0.69443562\n",
      " 0.6934849  0.6836569  0.6918169  0.68824494 0.6918169  0.68824494\n",
      " 0.64120176 0.65311426 0.64325389 0.65469617 0.65419609 0.65335069\n",
      " 0.65419609 0.65335069 0.56637738 0.56025256 0.58205751 0.57802871\n",
      " 0.60047301 0.59532038 0.60047301 0.59532038]\n",
      "Best cross validation score: 69.90%\n",
      "Optimal parameters: {'classifier__criterion': 'gini', 'classifier__max_depth': 6, 'classifier__min_samples_leaf': 6, 'classifier__min_samples_split': 5, 'classifier__splitter': 'best'}\n"
     ]
    }
   ],
   "source": [
    "params_dt1 = {'DecisionTree': [{\n",
    "    'classifier__criterion':['gini', 'entropy'],\n",
    "    'classifier__splitter':['best', 'random'],\n",
    "    'classifier__max_depth':[2, 6, 10, 15],\n",
    "    'classifier__min_samples_split': [5, 10],\n",
    "    'classifier__min_samples_leaf': [3, 6],\n",
    "}]}\n",
    "run_gridsearch(params_dt1, name='DecisionTree1')"
   ]
  },
  {
   "cell_type": "code",
   "execution_count": 12,
   "metadata": {},
   "outputs": [
    {
     "name": "stdout",
     "output_type": "stream",
     "text": [
      "Stored 'dt_best_params' (dict)\n"
     ]
    }
   ],
   "source": [
    "dt_best_params = tuned_models['DecisionTree1']\n",
    "%store dt_best_params"
   ]
  },
  {
   "cell_type": "markdown",
   "metadata": {},
   "source": [
    "#### Random Forest Grid Search\n"
   ]
  },
  {
   "cell_type": "code",
   "execution_count": 13,
   "metadata": {},
   "outputs": [
    {
     "name": "stdout",
     "output_type": "stream",
     "text": [
      "RandomForest Grid Search:\n",
      "Time Started: Tue Jan 25 23:25:18 2022\n",
      "Time Finished: Tue Jan 25 23:32:14 2022\n",
      "Cross validation scores: [0.72834928 0.76945647 0.78667191 0.72927907 0.77673396 0.78931751\n",
      " 0.74437969 0.79197061 0.7994756  0.74437969 0.79197061 0.7994756\n",
      " 0.34021739 0.         0.         0.34021739 0.         0.\n",
      " 0.34021739 0.         0.         0.34021739 0.         0.\n",
      " 0.82585253 0.8525388  0.85711897 0.82382332 0.8502768  0.85781501\n",
      " 0.80142828 0.84884995 0.85660424 0.80142828 0.84884995 0.85660424\n",
      " 0.77910479 0.8073858  0.81451605 0.78164385 0.80951627 0.82229731\n",
      " 0.78165751 0.80954904 0.81844962 0.78165751 0.80954904 0.81844962\n",
      " 0.740037   0.77387887 0.78927022 0.75128236 0.78060724 0.79187341\n",
      " 0.75816643 0.77927285 0.80074886 0.75816643 0.77927285 0.80074886\n",
      " 0.16521739 0.         0.         0.16521739 0.         0.\n",
      " 0.16521739 0.         0.         0.16521739 0.         0.\n",
      " 0.82774048 0.84613908 0.85602812 0.824762   0.8524176  0.85560754\n",
      " 0.8128994  0.85180262 0.85590945 0.8128994  0.85180262 0.85590945\n",
      " 0.79211434 0.81271523 0.81770633 0.78618936 0.80989178 0.81727102\n",
      " 0.78524223 0.80056061 0.81451854 0.78524223 0.80056061 0.81451854]\n",
      "Best cross validation score: 85.78%\n",
      "Optimal parameters: {'classifier__criterion': 'gini', 'classifier__max_depth': 6, 'classifier__min_samples_leaf': 3, 'classifier__min_samples_split': 10, 'classifier__n_estimators': 100}\n"
     ]
    }
   ],
   "source": [
    "params_rf1 = {'RandomForest': [{\n",
    "    'classifier__n_estimators':[10, 30, 100],\n",
    "    'classifier__criterion':['gini', 'entropy'],\n",
    "    'classifier__max_depth':[None, 2, 6, 10],\n",
    "    'classifier__min_samples_split':[5, 10],\n",
    "    'classifier__min_samples_leaf':[3, 6]\n",
    "}]}\n",
    "run_gridsearch(params_rf1, name='RandomForest1')"
   ]
  },
  {
   "cell_type": "code",
   "execution_count": 14,
   "metadata": {},
   "outputs": [
    {
     "name": "stdout",
     "output_type": "stream",
     "text": [
      "RandomForest Grid Search:\n",
      "Time Started: Tue Jan 25 23:32:14 2022\n",
      "Time Finished: Tue Jan 25 23:35:58 2022\n",
      "Cross validation scores: [0.86348025 0.86916877 0.8672399  0.86581484 0.85828228 0.86554586\n",
      " 0.86589161 0.86438716 0.86019365 0.8665129  0.86366691 0.86765183\n",
      " 0.85552997 0.86261221 0.85475675 0.86134594 0.85449185 0.85802168\n",
      " 0.85270273 0.85877089 0.85781501 0.86193307 0.85666955 0.85954134\n",
      " 0.82935601 0.83243864 0.82793798 0.83106339 0.82874916 0.83311377\n",
      " 0.82681115 0.83609432 0.8247606  0.83442019 0.83131895 0.83922549]\n",
      "Best cross validation score: 86.92%\n",
      "Optimal parameters: {'classifier__max_depth': 5, 'classifier__min_samples_leaf': 1, 'classifier__min_samples_split': 10, 'classifier__n_estimators': 150}\n"
     ]
    }
   ],
   "source": [
    "params_rf2 = {'RandomForest': [{\n",
    "    'classifier__max_depth': [5, 6, 8], \n",
    "    'classifier__min_samples_leaf':[1, 2, 3], \n",
    "    'classifier__min_samples_split': [10, 15], \n",
    "    'classifier__n_estimators': [100, 150]\n",
    "}]}\n",
    "run_gridsearch(params_rf2, name='RandomForest2')"
   ]
  },
  {
   "cell_type": "code",
   "execution_count": 15,
   "metadata": {},
   "outputs": [
    {
     "name": "stdout",
     "output_type": "stream",
     "text": [
      "RandomForest Grid Search:\n",
      "Time Started: Tue Jan 25 23:35:58 2022\n",
      "Time Finished: Tue Jan 25 23:39:12 2022\n",
      "Cross validation scores: [0.76       0.925      0.925      0.76       0.925      0.925\n",
      " 0.76       0.925      0.925      0.94222222 0.93632279 0.93688187\n",
      " 0.94088889 0.93544631 0.93941845 0.94252991 0.9368475  0.93649311\n",
      " 0.86793955 0.86575031 0.8719752  0.86916877 0.86425856 0.87165903\n",
      " 0.86896581 0.8657069  0.87282453]\n",
      "Best cross validation score: 94.25%\n",
      "Optimal parameters: {'classifier__max_depth': 4, 'classifier__min_samples_leaf': 1, 'classifier__min_samples_split': 12, 'classifier__n_estimators': 150}\n"
     ]
    }
   ],
   "source": [
    "params_rf3 = {'RandomForest': [{\n",
    "    'classifier__max_depth': [3, 4, 5], \n",
    "    'classifier__min_samples_leaf':[1], \n",
    "    'classifier__min_samples_split': [8, 10, 12], \n",
    "    'classifier__n_estimators': [150, 200, 300]\n",
    "}]}\n",
    "run_gridsearch(params_rf3, name='RandomForest3')"
   ]
  },
  {
   "cell_type": "code",
   "execution_count": 16,
   "metadata": {},
   "outputs": [
    {
     "name": "stdout",
     "output_type": "stream",
     "text": [
      "RandomForest Grid Search:\n",
      "Time Started: Tue Jan 25 23:39:12 2022\n",
      "Time Finished: Tue Jan 25 23:39:36 2022\n",
      "Cross validation scores: [0.93544631 0.92849587 0.93631117]\n",
      "Best cross validation score: 93.63%\n",
      "Optimal parameters: {'classifier__max_depth': 4, 'classifier__min_samples_leaf': 1, 'classifier__min_samples_split': 10, 'classifier__n_estimators': 250}\n"
     ]
    }
   ],
   "source": [
    "params_rf4 = {'RandomForest': [{\n",
    "    'classifier__max_depth': [4], \n",
    "    'classifier__min_samples_leaf':[1], \n",
    "    'classifier__min_samples_split': [10], \n",
    "    'classifier__n_estimators': [200, 225, 250]\n",
    "}]}\n",
    "run_gridsearch(params_rf4, name='RandomForest4')"
   ]
  },
  {
   "cell_type": "code",
   "execution_count": 17,
   "metadata": {},
   "outputs": [
    {
     "name": "stdout",
     "output_type": "stream",
     "text": [
      "Stored 'rf_best_params' (dict)\n"
     ]
    }
   ],
   "source": [
    "rf_best_params = tuned_models['RandomForest4']\n",
    "%store rf_best_params"
   ]
  },
  {
   "cell_type": "markdown",
   "metadata": {},
   "source": [
    "#### Extra Trees Grid Search\n"
   ]
  },
  {
   "cell_type": "code",
   "execution_count": 18,
   "metadata": {},
   "outputs": [
    {
     "name": "stdout",
     "output_type": "stream",
     "text": [
      "ExtraTrees Grid Search:\n",
      "Time Started: Tue Jan 25 23:39:36 2022\n",
      "Time Finished: Tue Jan 25 23:46:59 2022\n",
      "Cross validation scores: [0.73740968 0.77556846 0.7925857  0.74504837 0.782159   0.79571527\n",
      " 0.76126053 0.79273261 0.80310892 0.76126053 0.79273261 0.80310892\n",
      " 0.         0.         0.         0.         0.         0.\n",
      " 0.         0.         0.         0.         0.         0.\n",
      " 0.82478932 0.87431847 0.86278711 0.80954916 0.86936681 0.87826212\n",
      " 0.82737153 0.87755512 0.88941167 0.82737153 0.87755512 0.88941167\n",
      " 0.78505397 0.81441699 0.82161139 0.77822105 0.81163727 0.82434729\n",
      " 0.79394288 0.82157933 0.82642731 0.79394288 0.82157933 0.82642731\n",
      " 0.74517303 0.77959971 0.78617052 0.74563427 0.78031464 0.79048635\n",
      " 0.77092441 0.79505357 0.80671093 0.77092441 0.79505357 0.80671093\n",
      " 0.         0.         0.         0.         0.         0.\n",
      " 0.         0.         0.         0.         0.         0.\n",
      " 0.8425626  0.8760777  0.88039135 0.8284872  0.87258835 0.8910092\n",
      " 0.82959337 0.88682954 0.89616994 0.82959337 0.88682954 0.89616994\n",
      " 0.79141655 0.82155544 0.82540216 0.79242783 0.82147347 0.82793829\n",
      " 0.8039822  0.82612569 0.82718827 0.8039822  0.82612569 0.82718827]\n",
      "Best cross validation score: 89.62%\n",
      "Optimal parameters: {'classifier__criterion': 'entropy', 'classifier__max_depth': 6, 'classifier__min_samples_leaf': 6, 'classifier__min_samples_split': 5, 'classifier__n_estimators': 100}\n"
     ]
    }
   ],
   "source": [
    "params_et1 = {'ExtraTrees': [{\n",
    "    'classifier__n_estimators':[10, 30, 100],\n",
    "    'classifier__criterion':['gini', 'entropy'],\n",
    "    'classifier__max_depth':[None, 2, 6, 10],\n",
    "    'classifier__min_samples_split':[5, 10],\n",
    "    'classifier__min_samples_leaf':[3, 6]\n",
    "}]}\n",
    "run_gridsearch(params_et1, name='ExtraTrees1')"
   ]
  },
  {
   "cell_type": "code",
   "execution_count": 19,
   "metadata": {},
   "outputs": [
    {
     "name": "stdout",
     "output_type": "stream",
     "text": [
      "ExtraTrees Grid Search:\n",
      "Time Started: Tue Jan 25 23:46:59 2022\n",
      "Time Finished: Tue Jan 25 23:54:21 2022\n",
      "Cross validation scores: [0.73740968 0.77556846 0.7925857  0.74504837 0.782159   0.79571527\n",
      " 0.76126053 0.79273261 0.80310892 0.76126053 0.79273261 0.80310892\n",
      " 0.         0.         0.         0.         0.         0.\n",
      " 0.         0.         0.         0.         0.         0.\n",
      " 0.82478932 0.87431847 0.86278711 0.80954916 0.86936681 0.87826212\n",
      " 0.82737153 0.87755512 0.88941167 0.82737153 0.87755512 0.88941167\n",
      " 0.78505397 0.81441699 0.82161139 0.77822105 0.81163727 0.82434729\n",
      " 0.79394288 0.82157933 0.82642731 0.79394288 0.82157933 0.82642731\n",
      " 0.74517303 0.77959971 0.78617052 0.74563427 0.78031464 0.79048635\n",
      " 0.77092441 0.79505357 0.80671093 0.77092441 0.79505357 0.80671093\n",
      " 0.         0.         0.         0.         0.         0.\n",
      " 0.         0.         0.         0.         0.         0.\n",
      " 0.8425626  0.8760777  0.88039135 0.8284872  0.87258835 0.8910092\n",
      " 0.82959337 0.88682954 0.89616994 0.82959337 0.88682954 0.89616994\n",
      " 0.79141655 0.82155544 0.82540216 0.79242783 0.82147347 0.82793829\n",
      " 0.8039822  0.82612569 0.82718827 0.8039822  0.82612569 0.82718827]\n",
      "Best cross validation score: 89.62%\n",
      "Optimal parameters: {'classifier__criterion': 'entropy', 'classifier__max_depth': 6, 'classifier__min_samples_leaf': 6, 'classifier__min_samples_split': 5, 'classifier__n_estimators': 100}\n"
     ]
    }
   ],
   "source": [
    "params_extra2 = {'ExtraTrees': [{\n",
    "    'regressor__n_estimators':[100, 200, 250],\n",
    "    'regressor__criterion':['gini', 'entropy'],\n",
    "    'regressor__max_depth':[3, 5, 6],\n",
    "    'regressor__min_samples_split':[8, 10, 15],\n",
    "    'regressor__min_samples_leaf':[1, 2, 3]\n",
    "    }]}\n",
    "run_gridsearch(params_et1, name='ExtraTrees2')"
   ]
  },
  {
   "cell_type": "code",
   "execution_count": 20,
   "metadata": {},
   "outputs": [
    {
     "name": "stdout",
     "output_type": "stream",
     "text": [
      "Stored 'et_best_params' (dict)\n"
     ]
    }
   ],
   "source": [
    "et_best_params = tuned_models['ExtraTrees2']\n",
    "%store et_best_params"
   ]
  },
  {
   "cell_type": "markdown",
   "metadata": {},
   "source": [
    "#### Gradient Boost Grid Search\n"
   ]
  },
  {
   "cell_type": "code",
   "execution_count": 21,
   "metadata": {},
   "outputs": [
    {
     "name": "stdout",
     "output_type": "stream",
     "text": [
      "GradientBoost Grid Search:\n",
      "Time Started: Tue Jan 25 23:54:21 2022\n",
      "Time Finished: Wed Jan 26 00:18:07 2022\n",
      "Cross validation scores: [0.85553137 0.77503382 0.74857846 0.85553137 0.77503382 0.74857846\n",
      " 0.85553137 0.77503382 0.74938491 0.85553137 0.77503382 0.74938491\n",
      " 0.79561829 0.73242356 0.72290551 0.79514218 0.72887847 0.71640555\n",
      " 0.79210031 0.73703701 0.72484727 0.79210031 0.73703701 0.72484727\n",
      " 0.74241109 0.69684654 0.69142404 0.7505717  0.70381195 0.69806752\n",
      " 0.76188974 0.70538981 0.6881066  0.76188974 0.70538981 0.6881066\n",
      " 0.         0.78394175 0.74465963 0.         0.78394175 0.74465963\n",
      " 0.         0.78394175 0.74457971 0.         0.78394175 0.74457971\n",
      " 0.8342102  0.73884904 0.72459949 0.83543923 0.74203365 0.72723842\n",
      " 0.83621221 0.73775579 0.72622219 0.83621221 0.73775579 0.72622219\n",
      " 0.77534416 0.71536566 0.70355581 0.78102891 0.72179612 0.71220472\n",
      " 0.78685156 0.71706051 0.70559187 0.78685156 0.71706051 0.70559187\n",
      "        nan        nan        nan        nan        nan        nan\n",
      "        nan        nan        nan        nan        nan        nan\n",
      "        nan        nan        nan        nan        nan        nan\n",
      "        nan        nan        nan        nan        nan        nan\n",
      "        nan        nan        nan        nan        nan        nan\n",
      "        nan        nan        nan        nan        nan        nan\n",
      "        nan        nan        nan        nan        nan        nan\n",
      "        nan        nan        nan        nan        nan        nan\n",
      "        nan        nan        nan        nan        nan        nan\n",
      "        nan        nan        nan        nan        nan        nan\n",
      "        nan        nan        nan        nan        nan        nan\n",
      "        nan        nan        nan        nan        nan        nan]\n",
      "Best cross validation score: 85.55%\n",
      "Optimal parameters: {'classifier__criterion': 'friedman_mse', 'classifier__loss': 'deviance', 'classifier__max_depth': 2, 'classifier__min_samples_leaf': 3, 'classifier__min_samples_split': 5, 'classifier__n_estimators': 10}\n"
     ]
    }
   ],
   "source": [
    "params_gb1 = {'GradientBoost': [{\n",
    "    'classifier__loss': ['deviance', 'exponential'],\n",
    "    'classifier__n_estimators':[10, 30, 100],\n",
    "    'classifier__criterion':['friedman_mse', 'squared_error'],\n",
    "    'classifier__max_depth':[2, 6, 10],\n",
    "    'classifier__min_samples_split':[5, 10],\n",
    "    'classifier__min_samples_leaf':[3, 6]\n",
    "}]}\n",
    "run_gridsearch(params_gb1, name='GradientBoost1')"
   ]
  },
  {
   "cell_type": "code",
   "execution_count": 22,
   "metadata": {},
   "outputs": [
    {
     "name": "stdout",
     "output_type": "stream",
     "text": [
      "GradientBoost Grid Search:\n",
      "Time Started: Wed Jan 26 00:18:07 2022\n"
     ]
    },
    {
     "ename": "ValueError",
     "evalue": "Invalid parameter regressor for estimator Pipeline(steps=[('col_transformer',\n                 ColumnTransformer(remainder='passthrough',\n                                   transformers=[('num',\n                                                  Pipeline(steps=[('grab_num',\n                                                                   FunctionTransformer(func=<function grab_numeric at 0x7fd088eab280>)),\n                                                                  ('num_impute',\n                                                                   SimpleImputer(add_indicator=True,\n                                                                                 strategy='median')),\n                                                                  ('scaler',\n                                                                   StandardScaler())]),\n                                                  [0, 1, 2, 3, 4, 5, 6, 7, 8, 9,\n                                                   10, 11, 12, 13, 14, 15, 16,\n                                                   17, 18, 19, 20, 31, 32]),\n                                                 ('cat',\n                                                  Pipeline(steps=[('cat_impute',\n                                                                   SimpleImputer(strategy='most_frequent')),\n                                                                  ('ohe',\n                                                                   OneHotEncoder(handle_unknown='ignore',\n                                                                                 sparse=False))]),\n                                                  [21, 22, 23, 24, 25, 26, 27,\n                                                   28, 29, 30, 33, 34])])),\n                ('classifier',\n                 GradientBoostingClassifier(random_state=20220126))]). Check the list of available parameters with `estimator.get_params().keys()`.",
     "output_type": "error",
     "traceback": [
      "\u001b[0;31m---------------------------------------------------------------------------\u001b[0m",
      "\u001b[0;31mValueError\u001b[0m                                Traceback (most recent call last)",
      "\u001b[0;32m<ipython-input-22-07838ba791e5>\u001b[0m in \u001b[0;36m<module>\u001b[0;34m\u001b[0m\n\u001b[1;32m      7\u001b[0m     \u001b[0;34m'regressor__min_samples_leaf'\u001b[0m\u001b[0;34m:\u001b[0m\u001b[0;34m[\u001b[0m\u001b[0;36m1\u001b[0m\u001b[0;34m,\u001b[0m \u001b[0;36m3\u001b[0m\u001b[0;34m,\u001b[0m \u001b[0;36m4\u001b[0m\u001b[0;34m]\u001b[0m\u001b[0;34m\u001b[0m\u001b[0;34m\u001b[0m\u001b[0m\n\u001b[1;32m      8\u001b[0m }]}\n\u001b[0;32m----> 9\u001b[0;31m \u001b[0mrun_gridsearch\u001b[0m\u001b[0;34m(\u001b[0m\u001b[0mparams_gb2\u001b[0m\u001b[0;34m,\u001b[0m \u001b[0mname\u001b[0m\u001b[0;34m=\u001b[0m\u001b[0;34m'GradientBoost2'\u001b[0m\u001b[0;34m)\u001b[0m\u001b[0;34m\u001b[0m\u001b[0;34m\u001b[0m\u001b[0m\n\u001b[0m",
      "\u001b[0;32m<ipython-input-8-b930eba0b11d>\u001b[0m in \u001b[0;36mrun_gridsearch\u001b[0;34m(params, name, models, df, target, score)\u001b[0m\n\u001b[1;32m      9\u001b[0m                                ('classifier', models[model]['classifier'])])\n\u001b[1;32m     10\u001b[0m         \u001b[0mgridsearch\u001b[0m \u001b[0;34m=\u001b[0m \u001b[0mGridSearchCV\u001b[0m\u001b[0;34m(\u001b[0m\u001b[0mestimator\u001b[0m\u001b[0;34m=\u001b[0m\u001b[0mpipe\u001b[0m\u001b[0;34m,\u001b[0m \u001b[0mparam_grid\u001b[0m\u001b[0;34m=\u001b[0m\u001b[0mgrid\u001b[0m\u001b[0;34m,\u001b[0m \u001b[0mscoring\u001b[0m\u001b[0;34m=\u001b[0m\u001b[0mscore\u001b[0m\u001b[0;34m,\u001b[0m \u001b[0mcv\u001b[0m\u001b[0;34m=\u001b[0m\u001b[0;36m5\u001b[0m\u001b[0;34m)\u001b[0m\u001b[0;34m\u001b[0m\u001b[0;34m\u001b[0m\u001b[0m\n\u001b[0;32m---> 11\u001b[0;31m         \u001b[0mgridsearch\u001b[0m\u001b[0;34m.\u001b[0m\u001b[0mfit\u001b[0m\u001b[0;34m(\u001b[0m\u001b[0mX_train\u001b[0m\u001b[0;34m,\u001b[0m \u001b[0my_train\u001b[0m\u001b[0;34m)\u001b[0m\u001b[0;34m\u001b[0m\u001b[0;34m\u001b[0m\u001b[0m\n\u001b[0m\u001b[1;32m     12\u001b[0m         \u001b[0mprint\u001b[0m\u001b[0;34m(\u001b[0m\u001b[0;34mf'Time Finished: {time.asctime()}'\u001b[0m\u001b[0;34m)\u001b[0m\u001b[0;34m\u001b[0m\u001b[0;34m\u001b[0m\u001b[0m\n\u001b[1;32m     13\u001b[0m         \u001b[0mprint\u001b[0m\u001b[0;34m(\u001b[0m\u001b[0;34mf'Cross validation scores: {gridsearch.cv_results_[\"mean_test_score\"]}'\u001b[0m\u001b[0;34m)\u001b[0m\u001b[0;34m\u001b[0m\u001b[0;34m\u001b[0m\u001b[0m\n",
      "\u001b[0;32m~/opt/anaconda3/envs/learn-env/lib/python3.8/site-packages/sklearn/utils/validation.py\u001b[0m in \u001b[0;36minner_f\u001b[0;34m(*args, **kwargs)\u001b[0m\n\u001b[1;32m     70\u001b[0m                           FutureWarning)\n\u001b[1;32m     71\u001b[0m         \u001b[0mkwargs\u001b[0m\u001b[0;34m.\u001b[0m\u001b[0mupdate\u001b[0m\u001b[0;34m(\u001b[0m\u001b[0;34m{\u001b[0m\u001b[0mk\u001b[0m\u001b[0;34m:\u001b[0m \u001b[0marg\u001b[0m \u001b[0;32mfor\u001b[0m \u001b[0mk\u001b[0m\u001b[0;34m,\u001b[0m \u001b[0marg\u001b[0m \u001b[0;32min\u001b[0m \u001b[0mzip\u001b[0m\u001b[0;34m(\u001b[0m\u001b[0msig\u001b[0m\u001b[0;34m.\u001b[0m\u001b[0mparameters\u001b[0m\u001b[0;34m,\u001b[0m \u001b[0margs\u001b[0m\u001b[0;34m)\u001b[0m\u001b[0;34m}\u001b[0m\u001b[0;34m)\u001b[0m\u001b[0;34m\u001b[0m\u001b[0;34m\u001b[0m\u001b[0m\n\u001b[0;32m---> 72\u001b[0;31m         \u001b[0;32mreturn\u001b[0m \u001b[0mf\u001b[0m\u001b[0;34m(\u001b[0m\u001b[0;34m**\u001b[0m\u001b[0mkwargs\u001b[0m\u001b[0;34m)\u001b[0m\u001b[0;34m\u001b[0m\u001b[0;34m\u001b[0m\u001b[0m\n\u001b[0m\u001b[1;32m     73\u001b[0m     \u001b[0;32mreturn\u001b[0m \u001b[0minner_f\u001b[0m\u001b[0;34m\u001b[0m\u001b[0;34m\u001b[0m\u001b[0m\n\u001b[1;32m     74\u001b[0m \u001b[0;34m\u001b[0m\u001b[0m\n",
      "\u001b[0;32m~/opt/anaconda3/envs/learn-env/lib/python3.8/site-packages/sklearn/model_selection/_search.py\u001b[0m in \u001b[0;36mfit\u001b[0;34m(self, X, y, groups, **fit_params)\u001b[0m\n\u001b[1;32m    734\u001b[0m                 \u001b[0;32mreturn\u001b[0m \u001b[0mresults\u001b[0m\u001b[0;34m\u001b[0m\u001b[0;34m\u001b[0m\u001b[0m\n\u001b[1;32m    735\u001b[0m \u001b[0;34m\u001b[0m\u001b[0m\n\u001b[0;32m--> 736\u001b[0;31m             \u001b[0mself\u001b[0m\u001b[0;34m.\u001b[0m\u001b[0m_run_search\u001b[0m\u001b[0;34m(\u001b[0m\u001b[0mevaluate_candidates\u001b[0m\u001b[0;34m)\u001b[0m\u001b[0;34m\u001b[0m\u001b[0;34m\u001b[0m\u001b[0m\n\u001b[0m\u001b[1;32m    737\u001b[0m \u001b[0;34m\u001b[0m\u001b[0m\n\u001b[1;32m    738\u001b[0m         \u001b[0;31m# For multi-metric evaluation, store the best_index_, best_params_ and\u001b[0m\u001b[0;34m\u001b[0m\u001b[0;34m\u001b[0m\u001b[0;34m\u001b[0m\u001b[0m\n",
      "\u001b[0;32m~/opt/anaconda3/envs/learn-env/lib/python3.8/site-packages/sklearn/model_selection/_search.py\u001b[0m in \u001b[0;36m_run_search\u001b[0;34m(self, evaluate_candidates)\u001b[0m\n\u001b[1;32m   1186\u001b[0m     \u001b[0;32mdef\u001b[0m \u001b[0m_run_search\u001b[0m\u001b[0;34m(\u001b[0m\u001b[0mself\u001b[0m\u001b[0;34m,\u001b[0m \u001b[0mevaluate_candidates\u001b[0m\u001b[0;34m)\u001b[0m\u001b[0;34m:\u001b[0m\u001b[0;34m\u001b[0m\u001b[0;34m\u001b[0m\u001b[0m\n\u001b[1;32m   1187\u001b[0m         \u001b[0;34m\"\"\"Search all candidates in param_grid\"\"\"\u001b[0m\u001b[0;34m\u001b[0m\u001b[0;34m\u001b[0m\u001b[0m\n\u001b[0;32m-> 1188\u001b[0;31m         \u001b[0mevaluate_candidates\u001b[0m\u001b[0;34m(\u001b[0m\u001b[0mParameterGrid\u001b[0m\u001b[0;34m(\u001b[0m\u001b[0mself\u001b[0m\u001b[0;34m.\u001b[0m\u001b[0mparam_grid\u001b[0m\u001b[0;34m)\u001b[0m\u001b[0;34m)\u001b[0m\u001b[0;34m\u001b[0m\u001b[0;34m\u001b[0m\u001b[0m\n\u001b[0m\u001b[1;32m   1189\u001b[0m \u001b[0;34m\u001b[0m\u001b[0m\n\u001b[1;32m   1190\u001b[0m \u001b[0;34m\u001b[0m\u001b[0m\n",
      "\u001b[0;32m~/opt/anaconda3/envs/learn-env/lib/python3.8/site-packages/sklearn/model_selection/_search.py\u001b[0m in \u001b[0;36mevaluate_candidates\u001b[0;34m(candidate_params)\u001b[0m\n\u001b[1;32m    706\u001b[0m                               n_splits, n_candidates, n_candidates * n_splits))\n\u001b[1;32m    707\u001b[0m \u001b[0;34m\u001b[0m\u001b[0m\n\u001b[0;32m--> 708\u001b[0;31m                 out = parallel(delayed(_fit_and_score)(clone(base_estimator),\n\u001b[0m\u001b[1;32m    709\u001b[0m                                                        \u001b[0mX\u001b[0m\u001b[0;34m,\u001b[0m \u001b[0my\u001b[0m\u001b[0;34m,\u001b[0m\u001b[0;34m\u001b[0m\u001b[0;34m\u001b[0m\u001b[0m\n\u001b[1;32m    710\u001b[0m                                                        \u001b[0mtrain\u001b[0m\u001b[0;34m=\u001b[0m\u001b[0mtrain\u001b[0m\u001b[0;34m,\u001b[0m \u001b[0mtest\u001b[0m\u001b[0;34m=\u001b[0m\u001b[0mtest\u001b[0m\u001b[0;34m,\u001b[0m\u001b[0;34m\u001b[0m\u001b[0;34m\u001b[0m\u001b[0m\n",
      "\u001b[0;32m~/opt/anaconda3/envs/learn-env/lib/python3.8/site-packages/joblib/parallel.py\u001b[0m in \u001b[0;36m__call__\u001b[0;34m(self, iterable)\u001b[0m\n\u001b[1;32m   1046\u001b[0m             \u001b[0;31m# remaining jobs.\u001b[0m\u001b[0;34m\u001b[0m\u001b[0;34m\u001b[0m\u001b[0;34m\u001b[0m\u001b[0m\n\u001b[1;32m   1047\u001b[0m             \u001b[0mself\u001b[0m\u001b[0;34m.\u001b[0m\u001b[0m_iterating\u001b[0m \u001b[0;34m=\u001b[0m \u001b[0;32mFalse\u001b[0m\u001b[0;34m\u001b[0m\u001b[0;34m\u001b[0m\u001b[0m\n\u001b[0;32m-> 1048\u001b[0;31m             \u001b[0;32mif\u001b[0m \u001b[0mself\u001b[0m\u001b[0;34m.\u001b[0m\u001b[0mdispatch_one_batch\u001b[0m\u001b[0;34m(\u001b[0m\u001b[0miterator\u001b[0m\u001b[0;34m)\u001b[0m\u001b[0;34m:\u001b[0m\u001b[0;34m\u001b[0m\u001b[0;34m\u001b[0m\u001b[0m\n\u001b[0m\u001b[1;32m   1049\u001b[0m                 \u001b[0mself\u001b[0m\u001b[0;34m.\u001b[0m\u001b[0m_iterating\u001b[0m \u001b[0;34m=\u001b[0m \u001b[0mself\u001b[0m\u001b[0;34m.\u001b[0m\u001b[0m_original_iterator\u001b[0m \u001b[0;32mis\u001b[0m \u001b[0;32mnot\u001b[0m \u001b[0;32mNone\u001b[0m\u001b[0;34m\u001b[0m\u001b[0;34m\u001b[0m\u001b[0m\n\u001b[1;32m   1050\u001b[0m \u001b[0;34m\u001b[0m\u001b[0m\n",
      "\u001b[0;32m~/opt/anaconda3/envs/learn-env/lib/python3.8/site-packages/joblib/parallel.py\u001b[0m in \u001b[0;36mdispatch_one_batch\u001b[0;34m(self, iterator)\u001b[0m\n\u001b[1;32m    864\u001b[0m                 \u001b[0;32mreturn\u001b[0m \u001b[0;32mFalse\u001b[0m\u001b[0;34m\u001b[0m\u001b[0;34m\u001b[0m\u001b[0m\n\u001b[1;32m    865\u001b[0m             \u001b[0;32melse\u001b[0m\u001b[0;34m:\u001b[0m\u001b[0;34m\u001b[0m\u001b[0;34m\u001b[0m\u001b[0m\n\u001b[0;32m--> 866\u001b[0;31m                 \u001b[0mself\u001b[0m\u001b[0;34m.\u001b[0m\u001b[0m_dispatch\u001b[0m\u001b[0;34m(\u001b[0m\u001b[0mtasks\u001b[0m\u001b[0;34m)\u001b[0m\u001b[0;34m\u001b[0m\u001b[0;34m\u001b[0m\u001b[0m\n\u001b[0m\u001b[1;32m    867\u001b[0m                 \u001b[0;32mreturn\u001b[0m \u001b[0;32mTrue\u001b[0m\u001b[0;34m\u001b[0m\u001b[0;34m\u001b[0m\u001b[0m\n\u001b[1;32m    868\u001b[0m \u001b[0;34m\u001b[0m\u001b[0m\n",
      "\u001b[0;32m~/opt/anaconda3/envs/learn-env/lib/python3.8/site-packages/joblib/parallel.py\u001b[0m in \u001b[0;36m_dispatch\u001b[0;34m(self, batch)\u001b[0m\n\u001b[1;32m    782\u001b[0m         \u001b[0;32mwith\u001b[0m \u001b[0mself\u001b[0m\u001b[0;34m.\u001b[0m\u001b[0m_lock\u001b[0m\u001b[0;34m:\u001b[0m\u001b[0;34m\u001b[0m\u001b[0;34m\u001b[0m\u001b[0m\n\u001b[1;32m    783\u001b[0m             \u001b[0mjob_idx\u001b[0m \u001b[0;34m=\u001b[0m \u001b[0mlen\u001b[0m\u001b[0;34m(\u001b[0m\u001b[0mself\u001b[0m\u001b[0;34m.\u001b[0m\u001b[0m_jobs\u001b[0m\u001b[0;34m)\u001b[0m\u001b[0;34m\u001b[0m\u001b[0;34m\u001b[0m\u001b[0m\n\u001b[0;32m--> 784\u001b[0;31m             \u001b[0mjob\u001b[0m \u001b[0;34m=\u001b[0m \u001b[0mself\u001b[0m\u001b[0;34m.\u001b[0m\u001b[0m_backend\u001b[0m\u001b[0;34m.\u001b[0m\u001b[0mapply_async\u001b[0m\u001b[0;34m(\u001b[0m\u001b[0mbatch\u001b[0m\u001b[0;34m,\u001b[0m \u001b[0mcallback\u001b[0m\u001b[0;34m=\u001b[0m\u001b[0mcb\u001b[0m\u001b[0;34m)\u001b[0m\u001b[0;34m\u001b[0m\u001b[0;34m\u001b[0m\u001b[0m\n\u001b[0m\u001b[1;32m    785\u001b[0m             \u001b[0;31m# A job can complete so quickly than its callback is\u001b[0m\u001b[0;34m\u001b[0m\u001b[0;34m\u001b[0m\u001b[0;34m\u001b[0m\u001b[0m\n\u001b[1;32m    786\u001b[0m             \u001b[0;31m# called before we get here, causing self._jobs to\u001b[0m\u001b[0;34m\u001b[0m\u001b[0;34m\u001b[0m\u001b[0;34m\u001b[0m\u001b[0m\n",
      "\u001b[0;32m~/opt/anaconda3/envs/learn-env/lib/python3.8/site-packages/joblib/_parallel_backends.py\u001b[0m in \u001b[0;36mapply_async\u001b[0;34m(self, func, callback)\u001b[0m\n\u001b[1;32m    206\u001b[0m     \u001b[0;32mdef\u001b[0m \u001b[0mapply_async\u001b[0m\u001b[0;34m(\u001b[0m\u001b[0mself\u001b[0m\u001b[0;34m,\u001b[0m \u001b[0mfunc\u001b[0m\u001b[0;34m,\u001b[0m \u001b[0mcallback\u001b[0m\u001b[0;34m=\u001b[0m\u001b[0;32mNone\u001b[0m\u001b[0;34m)\u001b[0m\u001b[0;34m:\u001b[0m\u001b[0;34m\u001b[0m\u001b[0;34m\u001b[0m\u001b[0m\n\u001b[1;32m    207\u001b[0m         \u001b[0;34m\"\"\"Schedule a func to be run\"\"\"\u001b[0m\u001b[0;34m\u001b[0m\u001b[0;34m\u001b[0m\u001b[0m\n\u001b[0;32m--> 208\u001b[0;31m         \u001b[0mresult\u001b[0m \u001b[0;34m=\u001b[0m \u001b[0mImmediateResult\u001b[0m\u001b[0;34m(\u001b[0m\u001b[0mfunc\u001b[0m\u001b[0;34m)\u001b[0m\u001b[0;34m\u001b[0m\u001b[0;34m\u001b[0m\u001b[0m\n\u001b[0m\u001b[1;32m    209\u001b[0m         \u001b[0;32mif\u001b[0m \u001b[0mcallback\u001b[0m\u001b[0;34m:\u001b[0m\u001b[0;34m\u001b[0m\u001b[0;34m\u001b[0m\u001b[0m\n\u001b[1;32m    210\u001b[0m             \u001b[0mcallback\u001b[0m\u001b[0;34m(\u001b[0m\u001b[0mresult\u001b[0m\u001b[0;34m)\u001b[0m\u001b[0;34m\u001b[0m\u001b[0;34m\u001b[0m\u001b[0m\n",
      "\u001b[0;32m~/opt/anaconda3/envs/learn-env/lib/python3.8/site-packages/joblib/_parallel_backends.py\u001b[0m in \u001b[0;36m__init__\u001b[0;34m(self, batch)\u001b[0m\n\u001b[1;32m    570\u001b[0m         \u001b[0;31m# Don't delay the application, to avoid keeping the input\u001b[0m\u001b[0;34m\u001b[0m\u001b[0;34m\u001b[0m\u001b[0;34m\u001b[0m\u001b[0m\n\u001b[1;32m    571\u001b[0m         \u001b[0;31m# arguments in memory\u001b[0m\u001b[0;34m\u001b[0m\u001b[0;34m\u001b[0m\u001b[0;34m\u001b[0m\u001b[0m\n\u001b[0;32m--> 572\u001b[0;31m         \u001b[0mself\u001b[0m\u001b[0;34m.\u001b[0m\u001b[0mresults\u001b[0m \u001b[0;34m=\u001b[0m \u001b[0mbatch\u001b[0m\u001b[0;34m(\u001b[0m\u001b[0;34m)\u001b[0m\u001b[0;34m\u001b[0m\u001b[0;34m\u001b[0m\u001b[0m\n\u001b[0m\u001b[1;32m    573\u001b[0m \u001b[0;34m\u001b[0m\u001b[0m\n\u001b[1;32m    574\u001b[0m     \u001b[0;32mdef\u001b[0m \u001b[0mget\u001b[0m\u001b[0;34m(\u001b[0m\u001b[0mself\u001b[0m\u001b[0;34m)\u001b[0m\u001b[0;34m:\u001b[0m\u001b[0;34m\u001b[0m\u001b[0;34m\u001b[0m\u001b[0m\n",
      "\u001b[0;32m~/opt/anaconda3/envs/learn-env/lib/python3.8/site-packages/joblib/parallel.py\u001b[0m in \u001b[0;36m__call__\u001b[0;34m(self)\u001b[0m\n\u001b[1;32m    260\u001b[0m         \u001b[0;31m# change the default number of processes to -1\u001b[0m\u001b[0;34m\u001b[0m\u001b[0;34m\u001b[0m\u001b[0;34m\u001b[0m\u001b[0m\n\u001b[1;32m    261\u001b[0m         \u001b[0;32mwith\u001b[0m \u001b[0mparallel_backend\u001b[0m\u001b[0;34m(\u001b[0m\u001b[0mself\u001b[0m\u001b[0;34m.\u001b[0m\u001b[0m_backend\u001b[0m\u001b[0;34m,\u001b[0m \u001b[0mn_jobs\u001b[0m\u001b[0;34m=\u001b[0m\u001b[0mself\u001b[0m\u001b[0;34m.\u001b[0m\u001b[0m_n_jobs\u001b[0m\u001b[0;34m)\u001b[0m\u001b[0;34m:\u001b[0m\u001b[0;34m\u001b[0m\u001b[0;34m\u001b[0m\u001b[0m\n\u001b[0;32m--> 262\u001b[0;31m             return [func(*args, **kwargs)\n\u001b[0m\u001b[1;32m    263\u001b[0m                     for func, args, kwargs in self.items]\n\u001b[1;32m    264\u001b[0m \u001b[0;34m\u001b[0m\u001b[0m\n",
      "\u001b[0;32m~/opt/anaconda3/envs/learn-env/lib/python3.8/site-packages/joblib/parallel.py\u001b[0m in \u001b[0;36m<listcomp>\u001b[0;34m(.0)\u001b[0m\n\u001b[1;32m    260\u001b[0m         \u001b[0;31m# change the default number of processes to -1\u001b[0m\u001b[0;34m\u001b[0m\u001b[0;34m\u001b[0m\u001b[0;34m\u001b[0m\u001b[0m\n\u001b[1;32m    261\u001b[0m         \u001b[0;32mwith\u001b[0m \u001b[0mparallel_backend\u001b[0m\u001b[0;34m(\u001b[0m\u001b[0mself\u001b[0m\u001b[0;34m.\u001b[0m\u001b[0m_backend\u001b[0m\u001b[0;34m,\u001b[0m \u001b[0mn_jobs\u001b[0m\u001b[0;34m=\u001b[0m\u001b[0mself\u001b[0m\u001b[0;34m.\u001b[0m\u001b[0m_n_jobs\u001b[0m\u001b[0;34m)\u001b[0m\u001b[0;34m:\u001b[0m\u001b[0;34m\u001b[0m\u001b[0;34m\u001b[0m\u001b[0m\n\u001b[0;32m--> 262\u001b[0;31m             return [func(*args, **kwargs)\n\u001b[0m\u001b[1;32m    263\u001b[0m                     for func, args, kwargs in self.items]\n\u001b[1;32m    264\u001b[0m \u001b[0;34m\u001b[0m\u001b[0m\n",
      "\u001b[0;32m~/opt/anaconda3/envs/learn-env/lib/python3.8/site-packages/sklearn/model_selection/_validation.py\u001b[0m in \u001b[0;36m_fit_and_score\u001b[0;34m(estimator, X, y, scorer, train, test, verbose, parameters, fit_params, return_train_score, return_parameters, return_n_test_samples, return_times, return_estimator, error_score)\u001b[0m\n\u001b[1;32m    518\u001b[0m             \u001b[0mcloned_parameters\u001b[0m\u001b[0;34m[\u001b[0m\u001b[0mk\u001b[0m\u001b[0;34m]\u001b[0m \u001b[0;34m=\u001b[0m \u001b[0mclone\u001b[0m\u001b[0;34m(\u001b[0m\u001b[0mv\u001b[0m\u001b[0;34m,\u001b[0m \u001b[0msafe\u001b[0m\u001b[0;34m=\u001b[0m\u001b[0;32mFalse\u001b[0m\u001b[0;34m)\u001b[0m\u001b[0;34m\u001b[0m\u001b[0;34m\u001b[0m\u001b[0m\n\u001b[1;32m    519\u001b[0m \u001b[0;34m\u001b[0m\u001b[0m\n\u001b[0;32m--> 520\u001b[0;31m         \u001b[0mestimator\u001b[0m \u001b[0;34m=\u001b[0m \u001b[0mestimator\u001b[0m\u001b[0;34m.\u001b[0m\u001b[0mset_params\u001b[0m\u001b[0;34m(\u001b[0m\u001b[0;34m**\u001b[0m\u001b[0mcloned_parameters\u001b[0m\u001b[0;34m)\u001b[0m\u001b[0;34m\u001b[0m\u001b[0;34m\u001b[0m\u001b[0m\n\u001b[0m\u001b[1;32m    521\u001b[0m \u001b[0;34m\u001b[0m\u001b[0m\n\u001b[1;32m    522\u001b[0m     \u001b[0mstart_time\u001b[0m \u001b[0;34m=\u001b[0m \u001b[0mtime\u001b[0m\u001b[0;34m.\u001b[0m\u001b[0mtime\u001b[0m\u001b[0;34m(\u001b[0m\u001b[0;34m)\u001b[0m\u001b[0;34m\u001b[0m\u001b[0;34m\u001b[0m\u001b[0m\n",
      "\u001b[0;32m~/opt/anaconda3/envs/learn-env/lib/python3.8/site-packages/sklearn/pipeline.py\u001b[0m in \u001b[0;36mset_params\u001b[0;34m(self, **kwargs)\u001b[0m\n\u001b[1;32m    139\u001b[0m         \u001b[0mself\u001b[0m\u001b[0;34m\u001b[0m\u001b[0;34m\u001b[0m\u001b[0m\n\u001b[1;32m    140\u001b[0m         \"\"\"\n\u001b[0;32m--> 141\u001b[0;31m         \u001b[0mself\u001b[0m\u001b[0;34m.\u001b[0m\u001b[0m_set_params\u001b[0m\u001b[0;34m(\u001b[0m\u001b[0;34m'steps'\u001b[0m\u001b[0;34m,\u001b[0m \u001b[0;34m**\u001b[0m\u001b[0mkwargs\u001b[0m\u001b[0;34m)\u001b[0m\u001b[0;34m\u001b[0m\u001b[0;34m\u001b[0m\u001b[0m\n\u001b[0m\u001b[1;32m    142\u001b[0m         \u001b[0;32mreturn\u001b[0m \u001b[0mself\u001b[0m\u001b[0;34m\u001b[0m\u001b[0;34m\u001b[0m\u001b[0m\n\u001b[1;32m    143\u001b[0m \u001b[0;34m\u001b[0m\u001b[0m\n",
      "\u001b[0;32m~/opt/anaconda3/envs/learn-env/lib/python3.8/site-packages/sklearn/utils/metaestimators.py\u001b[0m in \u001b[0;36m_set_params\u001b[0;34m(self, attr, **params)\u001b[0m\n\u001b[1;32m     51\u001b[0m                 \u001b[0mself\u001b[0m\u001b[0;34m.\u001b[0m\u001b[0m_replace_estimator\u001b[0m\u001b[0;34m(\u001b[0m\u001b[0mattr\u001b[0m\u001b[0;34m,\u001b[0m \u001b[0mname\u001b[0m\u001b[0;34m,\u001b[0m \u001b[0mparams\u001b[0m\u001b[0;34m.\u001b[0m\u001b[0mpop\u001b[0m\u001b[0;34m(\u001b[0m\u001b[0mname\u001b[0m\u001b[0;34m)\u001b[0m\u001b[0;34m)\u001b[0m\u001b[0;34m\u001b[0m\u001b[0;34m\u001b[0m\u001b[0m\n\u001b[1;32m     52\u001b[0m         \u001b[0;31m# 3. Step parameters and other initialisation arguments\u001b[0m\u001b[0;34m\u001b[0m\u001b[0;34m\u001b[0m\u001b[0;34m\u001b[0m\u001b[0m\n\u001b[0;32m---> 53\u001b[0;31m         \u001b[0msuper\u001b[0m\u001b[0;34m(\u001b[0m\u001b[0;34m)\u001b[0m\u001b[0;34m.\u001b[0m\u001b[0mset_params\u001b[0m\u001b[0;34m(\u001b[0m\u001b[0;34m**\u001b[0m\u001b[0mparams\u001b[0m\u001b[0;34m)\u001b[0m\u001b[0;34m\u001b[0m\u001b[0;34m\u001b[0m\u001b[0m\n\u001b[0m\u001b[1;32m     54\u001b[0m         \u001b[0;32mreturn\u001b[0m \u001b[0mself\u001b[0m\u001b[0;34m\u001b[0m\u001b[0;34m\u001b[0m\u001b[0m\n\u001b[1;32m     55\u001b[0m \u001b[0;34m\u001b[0m\u001b[0m\n",
      "\u001b[0;32m~/opt/anaconda3/envs/learn-env/lib/python3.8/site-packages/sklearn/base.py\u001b[0m in \u001b[0;36mset_params\u001b[0;34m(self, **params)\u001b[0m\n\u001b[1;32m    247\u001b[0m             \u001b[0mkey\u001b[0m\u001b[0;34m,\u001b[0m \u001b[0mdelim\u001b[0m\u001b[0;34m,\u001b[0m \u001b[0msub_key\u001b[0m \u001b[0;34m=\u001b[0m \u001b[0mkey\u001b[0m\u001b[0;34m.\u001b[0m\u001b[0mpartition\u001b[0m\u001b[0;34m(\u001b[0m\u001b[0;34m'__'\u001b[0m\u001b[0;34m)\u001b[0m\u001b[0;34m\u001b[0m\u001b[0;34m\u001b[0m\u001b[0m\n\u001b[1;32m    248\u001b[0m             \u001b[0;32mif\u001b[0m \u001b[0mkey\u001b[0m \u001b[0;32mnot\u001b[0m \u001b[0;32min\u001b[0m \u001b[0mvalid_params\u001b[0m\u001b[0;34m:\u001b[0m\u001b[0;34m\u001b[0m\u001b[0;34m\u001b[0m\u001b[0m\n\u001b[0;32m--> 249\u001b[0;31m                 raise ValueError('Invalid parameter %s for estimator %s. '\n\u001b[0m\u001b[1;32m    250\u001b[0m                                  \u001b[0;34m'Check the list of available parameters '\u001b[0m\u001b[0;34m\u001b[0m\u001b[0;34m\u001b[0m\u001b[0m\n\u001b[1;32m    251\u001b[0m                                  \u001b[0;34m'with `estimator.get_params().keys()`.'\u001b[0m \u001b[0;34m%\u001b[0m\u001b[0;34m\u001b[0m\u001b[0;34m\u001b[0m\u001b[0m\n",
      "\u001b[0;31mValueError\u001b[0m: Invalid parameter regressor for estimator Pipeline(steps=[('col_transformer',\n                 ColumnTransformer(remainder='passthrough',\n                                   transformers=[('num',\n                                                  Pipeline(steps=[('grab_num',\n                                                                   FunctionTransformer(func=<function grab_numeric at 0x7fd088eab280>)),\n                                                                  ('num_impute',\n                                                                   SimpleImputer(add_indicator=True,\n                                                                                 strategy='median')),\n                                                                  ('scaler',\n                                                                   StandardScaler())]),\n                                                  [0, 1, 2, 3, 4, 5, 6, 7, 8, 9,\n                                                   10, 11, 12, 13, 14, 15, 16,\n                                                   17, 18, 19, 20, 31, 32]),\n                                                 ('cat',\n                                                  Pipeline(steps=[('cat_impute',\n                                                                   SimpleImputer(strategy='most_frequent')),\n                                                                  ('ohe',\n                                                                   OneHotEncoder(handle_unknown='ignore',\n                                                                                 sparse=False))]),\n                                                  [21, 22, 23, 24, 25, 26, 27,\n                                                   28, 29, 30, 33, 34])])),\n                ('classifier',\n                 GradientBoostingClassifier(random_state=20220126))]). Check the list of available parameters with `estimator.get_params().keys()`."
     ]
    }
   ],
   "source": [
    "params_gb2 = {'GradientBoost': [{\n",
    "    'regressor__loss': ['exponential'],\n",
    "    'regressor__n_estimators':[100, 200, 300],\n",
    "    'regressor__criterion':['friedman_mse'],\n",
    "    'regressor__max_depth':[5, 6, 8],\n",
    "    'regressor__min_samples_split':[8, 10, 13],\n",
    "    'regressor__min_samples_leaf':[1, 3, 4]\n",
    "}]}\n",
    "run_gridsearch(params_gb2, name='GradientBoost2')"
   ]
  },
  {
   "cell_type": "code",
   "execution_count": null,
   "metadata": {},
   "outputs": [],
   "source": [
    "gb_best_params = tuned_models['GradientBoost1']\n",
    "%store gb_best_params"
   ]
  },
  {
   "cell_type": "markdown",
   "metadata": {},
   "source": [
    "## GridSearchCV with AUC Scoring"
   ]
  },
  {
   "cell_type": "markdown",
   "metadata": {},
   "source": [
    "#### Logistic Regression\n"
   ]
  },
  {
   "cell_type": "code",
   "execution_count": 23,
   "metadata": {},
   "outputs": [
    {
     "name": "stdout",
     "output_type": "stream",
     "text": [
      "LogisticRegression Grid Search:\n",
      "Time Started: Wed Jan 26 08:21:50 2022\n",
      "Time Finished: Wed Jan 26 08:22:05 2022\n",
      "Cross validation scores: [0.85363743 0.86061299 0.8602602 ]\n",
      "Best cross validation score: 86.06%\n",
      "Optimal parameters: {'classifier__C': 0.1}\n"
     ]
    }
   ],
   "source": [
    "params_lr1 = {'LogisticRegression': [{\n",
    "    'classifier__C':[0.001, 0.1, 1]\n",
    "}]}\n",
    "run_gridsearch(params_lr1, name='LogisticRegression1_auc', score='roc_auc')"
   ]
  },
  {
   "cell_type": "code",
   "execution_count": 24,
   "metadata": {},
   "outputs": [
    {
     "name": "stdout",
     "output_type": "stream",
     "text": [
      "LogisticRegression Grid Search:\n",
      "Time Started: Wed Jan 26 08:22:05 2022\n",
      "Time Finished: Wed Jan 26 08:25:38 2022\n",
      "Cross validation scores: [0.85363743 0.85363713 0.85203001 0.85203136 0.86061299 0.8606205\n",
      " 0.86063918 0.86064038 0.8602602  0.86027003 0.86026155 0.86026657]\n",
      "Best cross validation score: 86.06%\n",
      "Optimal parameters: {'classifier__C': 0.1, 'classifier__fit_intercept': False, 'classifier__solver': 'saga'}\n"
     ]
    }
   ],
   "source": [
    "params_lr2 = {'LogisticRegression': [{\n",
    "    'classifier__C':[0.001, 0.1, 1],\n",
    "    'classifier__solver':['lbfgs', 'saga'],\n",
    "    'classifier__fit_intercept':[True, False]\n",
    "}]}\n",
    "run_gridsearch(params_lr2, name='LogisticRegression2_auc', score='roc_auc')"
   ]
  },
  {
   "cell_type": "code",
   "execution_count": 25,
   "metadata": {},
   "outputs": [
    {
     "name": "stdout",
     "output_type": "stream",
     "text": [
      "Stored 'lr_best_params_auc' (dict)\n"
     ]
    }
   ],
   "source": [
    "lr_best_params_auc = tuned_models['LogisticRegression2_auc']\n",
    "%store lr_best_params_auc"
   ]
  },
  {
   "cell_type": "markdown",
   "metadata": {},
   "source": [
    "#### Decision Tree Grid Search\n"
   ]
  },
  {
   "cell_type": "code",
   "execution_count": 26,
   "metadata": {},
   "outputs": [
    {
     "name": "stdout",
     "output_type": "stream",
     "text": [
      "DecisionTree Grid Search:\n",
      "Time Started: Wed Jan 26 08:25:38 2022\n",
      "Time Finished: Wed Jan 26 08:28:53 2022\n",
      "Cross validation scores: [0.76406813 0.76157132 0.76406813 0.76157132 0.76406813 0.76157132\n",
      " 0.76406813 0.76157132 0.83707046 0.83217776 0.83719869 0.83122071\n",
      " 0.8382586  0.83401432 0.8382586  0.83401432 0.78910446 0.78123391\n",
      " 0.80035993 0.80462701 0.80589529 0.79943745 0.80589529 0.79943745\n",
      " 0.72590564 0.72040936 0.74974066 0.74774986 0.77100367 0.77019982\n",
      " 0.77100367 0.77019982 0.76406813 0.76157132 0.76406813 0.76157132\n",
      " 0.76406813 0.76157132 0.76406813 0.76157132 0.83825115 0.83042354\n",
      " 0.83825115 0.8305173  0.83946804 0.82986624 0.83946804 0.82986624\n",
      " 0.79217703 0.79650399 0.79443527 0.7962433  0.80713278 0.80124739\n",
      " 0.80713278 0.80124739 0.74214269 0.73677847 0.75673463 0.74564894\n",
      " 0.77552752 0.77186667 0.77552752 0.77186667]\n",
      "Best cross validation score: 83.95%\n",
      "Optimal parameters: {'classifier__criterion': 'entropy', 'classifier__max_depth': 6, 'classifier__min_samples_leaf': 6, 'classifier__min_samples_split': 5, 'classifier__splitter': 'best'}\n"
     ]
    }
   ],
   "source": [
    "params_dt1 = {'DecisionTree': [{\n",
    "    'classifier__criterion':['gini', 'entropy'],\n",
    "    'classifier__splitter':['best', 'random'],\n",
    "    'classifier__max_depth':[2, 6, 10, 15],\n",
    "    'classifier__min_samples_split': [5, 10],\n",
    "    'classifier__min_samples_leaf': [3, 6],\n",
    "}]}\n",
    "run_gridsearch(params_dt1, name='DecisionTree1_auc', score='roc_auc')"
   ]
  },
  {
   "cell_type": "code",
   "execution_count": 27,
   "metadata": {},
   "outputs": [
    {
     "name": "stdout",
     "output_type": "stream",
     "text": [
      "Stored 'dt_best_params_auc' (dict)\n"
     ]
    }
   ],
   "source": [
    "dt_best_params_auc = tuned_models['DecisionTree1_auc']\n",
    "%store dt_best_params_auc"
   ]
  },
  {
   "cell_type": "markdown",
   "metadata": {},
   "source": [
    "#### Random Forest Grid Search\n"
   ]
  },
  {
   "cell_type": "code",
   "execution_count": 28,
   "metadata": {},
   "outputs": [
    {
     "name": "stdout",
     "output_type": "stream",
     "text": [
      "RandomForest Grid Search:\n",
      "Time Started: Wed Jan 26 08:28:53 2022\n",
      "Time Finished: Wed Jan 26 08:35:46 2022\n",
      "Cross validation scores: [0.83997149 0.85434772 0.86137251 0.84287864 0.8569989  0.86143033\n",
      " 0.84298028 0.85461939 0.860406   0.84298028 0.85461939 0.860406\n",
      " 0.802838   0.81113607 0.81982011 0.802838   0.81113607 0.81982011\n",
      " 0.802838   0.81111265 0.8198237  0.802838   0.81111265 0.8198237\n",
      " 0.83695504 0.8442693  0.84709038 0.83733175 0.84435646 0.84730188\n",
      " 0.8340879  0.84356748 0.84717245 0.8340879  0.84356748 0.84717245\n",
      " 0.84464985 0.8530924  0.85671435 0.84424744 0.85370777 0.85731177\n",
      " 0.84382833 0.8528518  0.85661998 0.84382833 0.8528518  0.85661998\n",
      " 0.83661514 0.85535129 0.8623531  0.84251504 0.856744   0.86232146\n",
      " 0.84616891 0.85758705 0.8621567  0.84616891 0.85758705 0.8621567\n",
      " 0.80263312 0.81129497 0.82007309 0.80263312 0.81129497 0.82007309\n",
      " 0.80263312 0.81126321 0.82007151 0.80263312 0.81126321 0.82007151\n",
      " 0.83610001 0.84345469 0.84757225 0.8362985  0.8445397  0.84774716\n",
      " 0.83550824 0.84454139 0.84797541 0.83550824 0.84454139 0.84797541\n",
      " 0.84417168 0.85368951 0.85822823 0.84299498 0.85474066 0.85794997\n",
      " 0.84371626 0.85304892 0.85740687 0.84371626 0.85304892 0.85740687]\n",
      "Best cross validation score: 86.24%\n",
      "Optimal parameters: {'classifier__criterion': 'entropy', 'classifier__max_depth': None, 'classifier__min_samples_leaf': 3, 'classifier__min_samples_split': 5, 'classifier__n_estimators': 100}\n"
     ]
    }
   ],
   "source": [
    "params_rf1 = {'RandomForest': [{\n",
    "    'classifier__n_estimators':[10, 30, 100],\n",
    "    'classifier__criterion':['gini', 'entropy'],\n",
    "    'classifier__max_depth':[None, 2, 6, 10],\n",
    "    'classifier__min_samples_split':[5, 10],\n",
    "    'classifier__min_samples_leaf':[3, 6]\n",
    "}]}\n",
    "run_gridsearch(params_rf1, name='RandomForest1_auc', score='roc_auc')"
   ]
  },
  {
   "cell_type": "code",
   "execution_count": 29,
   "metadata": {},
   "outputs": [
    {
     "name": "stdout",
     "output_type": "stream",
     "text": [
      "RandomForest Grid Search:\n",
      "Time Started: Wed Jan 26 08:35:46 2022\n",
      "Time Finished: Wed Jan 26 08:39:28 2022\n",
      "Cross validation scores: [0.84215171 0.84308588 0.84193876 0.84287183 0.84216464 0.84302112\n",
      " 0.84195638 0.84285224 0.84217978 0.84289821 0.84185181 0.84273469\n",
      " 0.84767714 0.84788725 0.84737874 0.8476381  0.84774416 0.84796182\n",
      " 0.8473689  0.84759694 0.84730188 0.84762191 0.84753633 0.84778385\n",
      " 0.85255842 0.85289413 0.85291841 0.8536032  0.85246452 0.85315531\n",
      " 0.85299524 0.85369735 0.85307891 0.85334478 0.85313686 0.85383186]\n",
      "Best cross validation score: 85.38%\n",
      "Optimal parameters: {'classifier__max_depth': 8, 'classifier__min_samples_leaf': 3, 'classifier__min_samples_split': 15, 'classifier__n_estimators': 150}\n"
     ]
    }
   ],
   "source": [
    "params_rf2 = {'RandomForest': [{\n",
    "    'classifier__max_depth': [5, 6, 8], \n",
    "    'classifier__min_samples_leaf':[1, 2, 3], \n",
    "    'classifier__min_samples_split': [10, 15], \n",
    "    'classifier__n_estimators': [100, 150]\n",
    "}]}\n",
    "run_gridsearch(params_rf2, name='RandomForest2_auc', score='roc_auc')"
   ]
  },
  {
   "cell_type": "code",
   "execution_count": 30,
   "metadata": {},
   "outputs": [
    {
     "name": "stdout",
     "output_type": "stream",
     "text": [
      "RandomForest Grid Search:\n",
      "Time Started: Wed Jan 26 08:39:28 2022\n",
      "Time Finished: Wed Jan 26 08:42:43 2022\n",
      "Cross validation scores: [0.83230313 0.83224719 0.83305359 0.83222936 0.83219556 0.83302485\n",
      " 0.83222456 0.83219863 0.83302575 0.83786923 0.83765523 0.83713394\n",
      " 0.8378435  0.83759659 0.83715526 0.83804719 0.83770224 0.83721139\n",
      " 0.8431423  0.84296725 0.84301295 0.84308588 0.84313674 0.84323566\n",
      " 0.84302795 0.84310868 0.84309055]\n",
      "Best cross validation score: 84.32%\n",
      "Optimal parameters: {'classifier__max_depth': 5, 'classifier__min_samples_leaf': 1, 'classifier__min_samples_split': 10, 'classifier__n_estimators': 300}\n"
     ]
    }
   ],
   "source": [
    "params_rf3 = {'RandomForest': [{\n",
    "    'classifier__max_depth': [3, 4, 5], \n",
    "    'classifier__min_samples_leaf':[1], \n",
    "    'classifier__min_samples_split': [8, 10, 12], \n",
    "    'classifier__n_estimators': [150, 200, 300]\n",
    "}]}\n",
    "run_gridsearch(params_rf3, name='RandomForest3_auc', score='roc_auc')"
   ]
  },
  {
   "cell_type": "code",
   "execution_count": 31,
   "metadata": {},
   "outputs": [
    {
     "name": "stdout",
     "output_type": "stream",
     "text": [
      "RandomForest Grid Search:\n",
      "Time Started: Wed Jan 26 08:42:43 2022\n",
      "Time Finished: Wed Jan 26 08:43:06 2022\n",
      "Cross validation scores: [0.83759659 0.83691283 0.83653619]\n",
      "Best cross validation score: 83.76%\n",
      "Optimal parameters: {'classifier__max_depth': 4, 'classifier__min_samples_leaf': 1, 'classifier__min_samples_split': 10, 'classifier__n_estimators': 200}\n"
     ]
    }
   ],
   "source": [
    "params_rf4 = {'RandomForest': [{\n",
    "    'classifier__max_depth': [4], \n",
    "    'classifier__min_samples_leaf':[1], \n",
    "    'classifier__min_samples_split': [10], \n",
    "    'classifier__n_estimators': [200, 225, 250]\n",
    "}]}\n",
    "run_gridsearch(params_rf4, name='RandomForest4_auc', score='roc_auc')"
   ]
  },
  {
   "cell_type": "code",
   "execution_count": 32,
   "metadata": {},
   "outputs": [
    {
     "name": "stdout",
     "output_type": "stream",
     "text": [
      "Stored 'rf_best_params_auc' (dict)\n"
     ]
    }
   ],
   "source": [
    "rf_best_params_auc = tuned_models['RandomForest4_auc']\n",
    "%store rf_best_params_auc"
   ]
  },
  {
   "cell_type": "markdown",
   "metadata": {},
   "source": [
    "#### Extra Trees Grid Search\n"
   ]
  },
  {
   "cell_type": "code",
   "execution_count": 33,
   "metadata": {},
   "outputs": [
    {
     "name": "stdout",
     "output_type": "stream",
     "text": [
      "ExtraTrees Grid Search:\n",
      "Time Started: Wed Jan 26 08:43:06 2022\n",
      "Time Finished: Wed Jan 26 08:50:28 2022\n",
      "Cross validation scores: [0.84240561 0.85503168 0.86095847 0.84522901 0.85758598 0.86162727\n",
      " 0.84678469 0.8567223  0.86100011 0.84678469 0.8567223  0.86100011\n",
      " 0.79652704 0.82245395 0.81749733 0.79652704 0.82245395 0.81749733\n",
      " 0.79652704 0.82248486 0.81749928 0.79652704 0.82248486 0.81749928\n",
      " 0.8343526  0.84483696 0.84459252 0.83298076 0.8446362  0.84531288\n",
      " 0.83427886 0.84374852 0.84449576 0.83427886 0.84374852 0.84449576\n",
      " 0.84573719 0.85250255 0.85498658 0.84715759 0.85342836 0.85582503\n",
      " 0.84634599 0.85289212 0.8560058  0.84634599 0.85289212 0.8560058\n",
      " 0.84354778 0.8547774  0.8607971  0.84330286 0.85567382 0.86139652\n",
      " 0.85027355 0.85861161 0.86214575 0.85027355 0.85861161 0.86214575\n",
      " 0.80223549 0.82641765 0.81974321 0.80223549 0.82641765 0.81974321\n",
      " 0.80223549 0.82646378 0.81975206 0.80223549 0.82646378 0.81975206\n",
      " 0.83294141 0.84441964 0.84423915 0.83133059 0.84189701 0.84368584\n",
      " 0.83007419 0.84088667 0.84317719 0.83007419 0.84088667 0.84317719\n",
      " 0.84614294 0.85386326 0.85622043 0.84662196 0.8529489  0.85661842\n",
      " 0.84511788 0.85242252 0.85519697 0.84511788 0.85242252 0.85519697]\n",
      "Best cross validation score: 86.21%\n",
      "Optimal parameters: {'classifier__criterion': 'entropy', 'classifier__max_depth': None, 'classifier__min_samples_leaf': 6, 'classifier__min_samples_split': 5, 'classifier__n_estimators': 100}\n"
     ]
    }
   ],
   "source": [
    "params_et1 = {'ExtraTrees': [{\n",
    "    'classifier__n_estimators':[10, 30, 100],\n",
    "    'classifier__criterion':['gini', 'entropy'],\n",
    "    'classifier__max_depth':[None, 2, 6, 10],\n",
    "    'classifier__min_samples_split':[5, 10],\n",
    "    'classifier__min_samples_leaf':[3, 6]\n",
    "}]}\n",
    "run_gridsearch(params_et1, name='ExtraTrees1_auc', score='roc_auc')"
   ]
  },
  {
   "cell_type": "code",
   "execution_count": 34,
   "metadata": {},
   "outputs": [
    {
     "name": "stdout",
     "output_type": "stream",
     "text": [
      "ExtraTrees Grid Search:\n",
      "Time Started: Wed Jan 26 08:50:28 2022\n",
      "Time Finished: Wed Jan 26 08:57:50 2022\n",
      "Cross validation scores: [0.84240561 0.85503168 0.86095847 0.84522901 0.85758598 0.86162727\n",
      " 0.84678469 0.8567223  0.86100011 0.84678469 0.8567223  0.86100011\n",
      " 0.79652704 0.82245395 0.81749733 0.79652704 0.82245395 0.81749733\n",
      " 0.79652704 0.82248486 0.81749928 0.79652704 0.82248486 0.81749928\n",
      " 0.8343526  0.84483696 0.84459252 0.83298076 0.8446362  0.84531288\n",
      " 0.83427886 0.84374852 0.84449576 0.83427886 0.84374852 0.84449576\n",
      " 0.84573719 0.85250255 0.85498658 0.84715759 0.85342836 0.85582503\n",
      " 0.84634599 0.85289212 0.8560058  0.84634599 0.85289212 0.8560058\n",
      " 0.84354778 0.8547774  0.8607971  0.84330286 0.85567382 0.86139652\n",
      " 0.85027355 0.85861161 0.86214575 0.85027355 0.85861161 0.86214575\n",
      " 0.80223549 0.82641765 0.81974321 0.80223549 0.82641765 0.81974321\n",
      " 0.80223549 0.82646378 0.81975206 0.80223549 0.82646378 0.81975206\n",
      " 0.83294141 0.84441964 0.84423915 0.83133059 0.84189701 0.84368584\n",
      " 0.83007419 0.84088667 0.84317719 0.83007419 0.84088667 0.84317719\n",
      " 0.84614294 0.85386326 0.85622043 0.84662196 0.8529489  0.85661842\n",
      " 0.84511788 0.85242252 0.85519697 0.84511788 0.85242252 0.85519697]\n",
      "Best cross validation score: 86.21%\n",
      "Optimal parameters: {'classifier__criterion': 'entropy', 'classifier__max_depth': None, 'classifier__min_samples_leaf': 6, 'classifier__min_samples_split': 5, 'classifier__n_estimators': 100}\n"
     ]
    }
   ],
   "source": [
    "params_extra2 = {'ExtraTrees': [{\n",
    "    'regressor__n_estimators':[100, 200, 250],\n",
    "    'regressor__criterion':['gini', 'entropy'],\n",
    "    'regressor__max_depth':[3, 5, 6],\n",
    "    'regressor__min_samples_split':[8, 10, 15],\n",
    "    'regressor__min_samples_leaf':[1, 2, 3]\n",
    "    }]}\n",
    "run_gridsearch(params_et1, name='ExtraTrees2_auc', score='roc_auc')"
   ]
  },
  {
   "cell_type": "code",
   "execution_count": 35,
   "metadata": {},
   "outputs": [
    {
     "name": "stdout",
     "output_type": "stream",
     "text": [
      "Stored 'et_best_params_auc' (dict)\n"
     ]
    }
   ],
   "source": [
    "et_best_params_auc = tuned_models['ExtraTrees2_auc']\n",
    "%store et_best_params_auc"
   ]
  },
  {
   "cell_type": "markdown",
   "metadata": {},
   "source": [
    "#### Gradient Boost Grid Search\n"
   ]
  },
  {
   "cell_type": "code",
   "execution_count": null,
   "metadata": {},
   "outputs": [],
   "source": [
    "params_gb1 = {'GradientBoost': [{\n",
    "    'classifier__loss': ['deviance', 'exponential'],\n",
    "    'classifier__n_estimators':[10, 30, 100],\n",
    "    'classifier__criterion':['friedman_mse', 'squared_error'],\n",
    "    'classifier__max_depth':[2, 6, 10],\n",
    "    'classifier__min_samples_split':[5, 10],\n",
    "    'classifier__min_samples_leaf':[3, 6]\n",
    "}]}\n",
    "run_gridsearch(params_gb1, name='GradientBoost1_auc', score='roc_auc')"
   ]
  },
  {
   "cell_type": "code",
   "execution_count": null,
   "metadata": {},
   "outputs": [],
   "source": [
    "params_gb2 = {'GradientBoost': [{\n",
    "    'regressor__loss': ['exponential'],\n",
    "    'regressor__n_estimators':[100, 200, 300],\n",
    "    'regressor__criterion':['friedman_mse'],\n",
    "    'regressor__max_depth':[5, 6, 8],\n",
    "    'regressor__min_samples_split':[8, 10, 13],\n",
    "    'regressor__min_samples_leaf':[1, 3, 4]\n",
    "}]}\n",
    "run_gridsearch(params_gb2, name='GradientBoost2_auc', score='roc_auc')"
   ]
  },
  {
   "cell_type": "code",
   "execution_count": null,
   "metadata": {},
   "outputs": [],
   "source": [
    "gb_best_params_auc = tuned_models['GradientBoost1_auc']\n",
    "%store gb_best_params_auc"
   ]
  },
  {
   "cell_type": "markdown",
   "metadata": {},
   "source": [
    "# Contact <a class=\"anchor\" id=\"Contact\"></a>\n",
    "\n",
    "Any inquiries, please contact the contributors of this analysis:   \n",
    ">[Czarina Luna](https://www.linkedin.com/in/czarinagluna)  \n",
    "[Justin Sohn](https://www.linkedin.com/in/justin-sohn-689901193/)  \n",
    "[Weston Shuken](https://www.linkedin.com/in/westonshuken/)"
   ]
  }
 ],
 "metadata": {
  "kernelspec": {
   "display_name": "Python (learn-env)",
   "language": "python",
   "name": "learn-env"
  },
  "language_info": {
   "codemirror_mode": {
    "name": "ipython",
    "version": 3
   },
   "file_extension": ".py",
   "mimetype": "text/x-python",
   "name": "python",
   "nbconvert_exporter": "python",
   "pygments_lexer": "ipython3",
   "version": "3.8.5"
  }
 },
 "nbformat": 4,
 "nbformat_minor": 4
}
