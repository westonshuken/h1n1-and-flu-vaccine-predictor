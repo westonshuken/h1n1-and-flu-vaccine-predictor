{
 "cells": [
  {
   "cell_type": "markdown",
   "metadata": {},
   "source": [
    "# Grid Search \n",
    "##### Authors: Czarina Luna, Weston Shuken, Justin Sohn"
   ]
  },
  {
   "cell_type": "code",
   "execution_count": 1,
   "metadata": {},
   "outputs": [],
   "source": [
    "import pandas as pd\n",
    "target = pd.read_csv('data/training_set_labels.csv')\n",
    "data = pd.read_csv('data/training_set_features.csv')\n",
    "data = data.merge(target, on=\"respondent_id\").drop(columns=['respondent_id', 'seasonal_vaccine'])"
   ]
  },
  {
   "cell_type": "code",
   "execution_count": 2,
   "metadata": {},
   "outputs": [],
   "source": [
    "import numpy as np\n",
    "import matplotlib.pyplot as plt\n",
    "import seaborn as sns\n",
    "import time\n",
    "\n",
    "from sklearn.model_selection import train_test_split, GridSearchCV, cross_val_score\n",
    "from sklearn.pipeline import Pipeline\n",
    "from sklearn.preprocessing import StandardScaler, OneHotEncoder, FunctionTransformer\n",
    "from sklearn.impute import SimpleImputer\n",
    "from sklearn.compose import ColumnTransformer\n",
    "from sklearn.linear_model import LogisticRegression\n",
    "from sklearn.tree import DecisionTreeClassifier\n",
    "from sklearn.ensemble import RandomForestClassifier, GradientBoostingClassifier\n",
    "from sklearn.metrics import plot_confusion_matrix, recall_score, accuracy_score, precision_score, f1_score, roc_auc_score\n",
    "\n",
    "from imblearn.over_sampling import SMOTE\n",
    "from imblearn.pipeline import Pipeline as ImPipeline"
   ]
  },
  {
   "cell_type": "code",
   "execution_count": 3,
   "metadata": {},
   "outputs": [],
   "source": [
    "def grab_numeric(df):\n",
    "    return df.select_dtypes(['float64', 'int64'])\n",
    "\n",
    "GrabNumeric = FunctionTransformer(grab_numeric)"
   ]
  },
  {
   "cell_type": "code",
   "execution_count": 4,
   "metadata": {},
   "outputs": [],
   "source": [
    "num_features = list(range(0, 21)) + [31, 32]\n",
    "cat_features = list(range(21, 31)) + [33, 34]"
   ]
  },
  {
   "cell_type": "code",
   "execution_count": 5,
   "metadata": {},
   "outputs": [],
   "source": [
    "numeric_transformer = Pipeline(\n",
    "    steps=[('grab_num', GrabNumeric), \n",
    "           ('num_impute', SimpleImputer(strategy='median', add_indicator=True)), \n",
    "           ('scaler', StandardScaler())])\n",
    "\n",
    "categorical_transformer = Pipeline(\n",
    "    steps=[('cat_impute', SimpleImputer(strategy='most_frequent')),\n",
    "           ('ohe', OneHotEncoder(sparse=False, handle_unknown='ignore'))])\n",
    "\n",
    "preprocessor = ColumnTransformer(\n",
    "    transformers=[\n",
    "        (\"num\", numeric_transformer, num_features),\n",
    "        (\"cat\", categorical_transformer, cat_features)], remainder='passthrough')"
   ]
  },
  {
   "cell_type": "code",
   "execution_count": 6,
   "metadata": {},
   "outputs": [],
   "source": [
    "def data_split(data, target):\n",
    "    X = data.drop(columns=target)\n",
    "    y = data[target]\n",
    "    X_train, X_test, y_train, y_test = train_test_split(X, y, test_size=.25, random_state=10151997)\n",
    "    return X_train, X_test, y_train, y_test"
   ]
  },
  {
   "cell_type": "code",
   "execution_count": 7,
   "metadata": {},
   "outputs": [],
   "source": [
    "X_train, X_test, y_train, y_test = data_split(data, 'h1n1_vaccine')"
   ]
  },
  {
   "cell_type": "code",
   "execution_count": 8,
   "metadata": {},
   "outputs": [],
   "source": [
    "X_train_processed = preprocessor.fit_transform(X_train)"
   ]
  },
  {
   "cell_type": "code",
   "execution_count": null,
   "metadata": {},
   "outputs": [],
   "source": [
    "def run_gridsearch(models, params, data, target):\n",
    "    X_train, X_test, y_train, y_test = data_split(data, target)\n",
    "    for model in params.keys():\n",
    "        if model in models.keys():\n",
    "            print(model, 'Grid Search:')\n",
    "            pipe = Pipeline(steps=[('col_transformer', models[model]['preprocessor']), \n",
    "                             ('regressor', models[model]['regressor'])])\n",
    "            grid = params[model]\n",
    "            gridsearch = GridSearchCV(estimator=pipe, param_grid=grid, scoring='precision', cv=5)\n",
    "            gridsearch.fit(X_train, y_train)\n",
    "            print(f'Cross validation mean: {gridsearch.cv_results_[\"mean_test_score\"]}')\n",
    "            print(f'Test precision: {gridsearch.best_score_ :.2%}')\n",
    "            print(f'Optimal prameters: {gridsearch.best_params_}')"
   ]
  },
  {
   "cell_type": "markdown",
   "metadata": {},
   "source": [
    "#### Decision Tree Grid Search"
   ]
  },
  {
   "cell_type": "code",
   "execution_count": 9,
   "metadata": {},
   "outputs": [],
   "source": [
    "DT_clf=DecisionTreeClassifier(random_state=42)\n",
    "\n",
    "# params = {'criterion':['gini', 'entropy'],\n",
    "#           'splitter':['best', 'random'],\n",
    "#           'max_depth':[2, 6, 10],\n",
    "#           'min_samples_split':[5, 10],\n",
    "#           'min_samples_leaf':[3, 6]}\n",
    "\n",
    "params = {'criterion':['gini', 'entropy']}\n",
    "\n",
    "\n",
    "DT_GS = GridSearchCV(estimator=DT_clf,\n",
    "                 param_grid=params,\n",
    "                 cv=10, scoring='roc_auc')"
   ]
  },
  {
   "cell_type": "code",
   "execution_count": 10,
   "metadata": {},
   "outputs": [
    {
     "name": "stdout",
     "output_type": "stream",
     "text": [
      "{'criterion': 'entropy'}\n",
      "0.6791901845688555\n"
     ]
    }
   ],
   "source": [
    "DT_GS.fit(X_train_processed, y_train)\n",
    "print(DT_GS.best_params_) \n",
    "print(DT_GS.best_score_)"
   ]
  },
  {
   "cell_type": "code",
   "execution_count": 13,
   "metadata": {},
   "outputs": [
    {
     "name": "stdout",
     "output_type": "stream",
     "text": [
      "Stored 'dt_params' (dict)\n"
     ]
    }
   ],
   "source": [
    "dt_params = DT_GS.best_params_\n",
    "%store dt_params"
   ]
  },
  {
   "cell_type": "markdown",
   "metadata": {},
   "source": [
    "#### Logistic Regression Grid Search"
   ]
  },
  {
   "cell_type": "markdown",
   "metadata": {},
   "source": [
    "#### Random Forest Grid Search"
   ]
  },
  {
   "cell_type": "code",
   "execution_count": null,
   "metadata": {},
   "outputs": [],
   "source": [
    "parameters = {'rfc__criterion': ['gini', 'entropy'],\n",
    "          'rfc__min_samples_leaf': [1, 5, 10],\n",
    "          'sm__k_neighbors': [3, 5, 9]}"
   ]
  },
  {
   "cell_type": "code",
   "execution_count": null,
   "metadata": {},
   "outputs": [],
   "source": [
    "RF_clf=RandomForestClassifier(random_state=42)\n",
    "\n",
    "params = {'n_estimators':[10, 30, 100],\n",
    "          'criterion':['gini', 'entropy'],\n",
    "          'max_depth':[2, 6, 10],\n",
    "          'min_samples_split':[5, 10],\n",
    "          'min_samples_leaf':[3, 6]}"
   ]
  },
  {
   "cell_type": "code",
   "execution_count": null,
   "metadata": {},
   "outputs": [],
   "source": [
    "gs = GridSearchCV(estimator=RF_clf,\n",
    "                 param_grid=params,\n",
    "                 cv=10, scoring='roc_auc')"
   ]
  },
  {
   "cell_type": "code",
   "execution_count": null,
   "metadata": {},
   "outputs": [],
   "source": [
    "gs.fit(X_train_clean,y_train_clean)\n",
    "print(gs.best_params_) \n",
    "print(gs.best_score_)"
   ]
  },
  {
   "cell_type": "markdown",
   "metadata": {},
   "source": [
    "#### Gradient Boost Grid Search"
   ]
  },
  {
   "cell_type": "code",
   "execution_count": null,
   "metadata": {},
   "outputs": [],
   "source": [
    "GB_clf=GradientBoostingClassifier(random_state=42)\n",
    "\n",
    "params = {'loss': ['deviance', 'exponential'],\n",
    "          'n_estimators':[10, 30, 100],\n",
    "          'criterion':['friedman_mse', 'squared_error'],\n",
    "          'max_depth':[2, 6, 10],\n",
    "          'min_samples_split':[5, 10],\n",
    "          'min_samples_leaf':[3, 6]}\n",
    "\n",
    "GB_GS = GridSearchCV(estimator=GB_clf,\n",
    "                 param_grid=params,\n",
    "                 cv=10, scoring='roc_auc')"
   ]
  },
  {
   "cell_type": "code",
   "execution_count": null,
   "metadata": {},
   "outputs": [],
   "source": [
    "GB_GS.fit(X_train_clean,y_train_clean)\n",
    "print(GB_GS.best_params_) \n",
    "print(GB_GS.best_score_)"
   ]
  },
  {
   "cell_type": "markdown",
   "metadata": {},
   "source": [
    "# Contact <a class=\"anchor\" id=\"Contact\"></a>\n",
    "\n",
    "Any inquiries, please contact the contributors of this analysis:   \n",
    ">[Czarina Luna](https://www.linkedin.com/in/czarinagluna)  \n",
    "[Justin Sohn](https://www.linkedin.com/in/justin-sohn-689901193/)  \n",
    "[Weston Shuken](https://www.linkedin.com/in/westonshuken/)"
   ]
  }
 ],
 "metadata": {
  "kernelspec": {
   "display_name": "Python (learn-env)",
   "language": "python",
   "name": "learn-env"
  },
  "language_info": {
   "codemirror_mode": {
    "name": "ipython",
    "version": 3
   },
   "file_extension": ".py",
   "mimetype": "text/x-python",
   "name": "python",
   "nbconvert_exporter": "python",
   "pygments_lexer": "ipython3",
   "version": "3.8.5"
  }
 },
 "nbformat": 4,
 "nbformat_minor": 4
}
