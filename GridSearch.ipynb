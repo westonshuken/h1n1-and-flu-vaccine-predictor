{
 "cells": [
  {
   "cell_type": "markdown",
   "metadata": {},
   "source": [
    "# Grid Search \n",
    "[Predicting H1N1 Vaccination Status](https://github.com/westonshuken/h1n1-and-flu-vaccine-predictor/blob/main/index.ipynb)\n",
    "\n",
    "Authors: Czarina Luna, Weston Shuken, Justin Sohn"
   ]
  },
  {
   "cell_type": "code",
   "execution_count": 1,
   "metadata": {},
   "outputs": [],
   "source": [
    "import pandas as pd\n",
    "import numpy as np\n",
    "\n",
    "labels = pd.read_csv('data/training_set_labels.csv')\n",
    "features = pd.read_csv('data/training_set_features.csv')\n",
    "data = pd.merge(features, labels, on=\"respondent_id\").drop(columns='respondent_id')\n",
    "\n",
    "target_variable = 'h1n1_vaccine'\n",
    "other_target = 'seasonal_vaccine'\n",
    "data = data.drop(columns=other_target)"
   ]
  },
  {
   "cell_type": "code",
   "execution_count": 2,
   "metadata": {},
   "outputs": [],
   "source": [
    "import time\n",
    "\n",
    "from sklearn.preprocessing import FunctionTransformer, StandardScaler, OneHotEncoder\n",
    "from sklearn.pipeline import Pipeline\n",
    "from sklearn.impute import SimpleImputer\n",
    "from sklearn.compose import ColumnTransformer\n",
    "from sklearn.model_selection import train_test_split, GridSearchCV\n",
    "from sklearn.metrics import precision_score, roc_auc_score\n",
    "from sklearn.linear_model import LogisticRegression\n",
    "from sklearn.tree import DecisionTreeClassifier\n",
    "from sklearn.ensemble import RandomForestClassifier, ExtraTreesClassifier, GradientBoostingClassifier\n",
    "\n",
    "import warnings\n",
    "warnings.filterwarnings('ignore')"
   ]
  },
  {
   "cell_type": "code",
   "execution_count": 3,
   "metadata": {},
   "outputs": [],
   "source": [
    "def grab_numeric(df):\n",
    "    return df.select_dtypes(['float64', 'int64'])\n",
    "\n",
    "GrabNumeric = FunctionTransformer(grab_numeric)"
   ]
  },
  {
   "cell_type": "code",
   "execution_count": 4,
   "metadata": {},
   "outputs": [],
   "source": [
    "numeric_transformer = Pipeline(\n",
    "    steps=[('grab_num', GrabNumeric), \n",
    "           ('num_impute', SimpleImputer(strategy='median', add_indicator=True)), \n",
    "           ('scaler', StandardScaler())])\n",
    "\n",
    "categorical_transformer = Pipeline(\n",
    "    steps=[('cat_impute', SimpleImputer(strategy='most_frequent')),\n",
    "           ('ohe', OneHotEncoder(sparse=False, handle_unknown='ignore'))])"
   ]
  },
  {
   "cell_type": "code",
   "execution_count": 5,
   "metadata": {},
   "outputs": [],
   "source": [
    "num_features = list(range(0, 21)) + [31, 32]\n",
    "cat_features = list(range(21, 31)) + [33, 34]\n",
    "\n",
    "preprocessor = ColumnTransformer(\n",
    "    transformers=[(\"num\", numeric_transformer, num_features),\n",
    "                  (\"cat\", categorical_transformer, cat_features)], remainder='passthrough')"
   ]
  },
  {
   "cell_type": "code",
   "execution_count": 6,
   "metadata": {},
   "outputs": [],
   "source": [
    "baseline = {'LogisticRegression':\n",
    "              {'classifier': LogisticRegression(random_state=20220124, max_iter=1000),\n",
    "               'preprocessor': preprocessor,\n",
    "               'output': None,\n",
    "               'fit_classifier': None,\n",
    "               'time_ran' : None\n",
    "              },\n",
    "          'DecisionTree':\n",
    "              {'classifier': DecisionTreeClassifier(random_state=20211122),\n",
    "               'preprocessor': preprocessor,\n",
    "               'output': None,\n",
    "               'fit_classifier': None,\n",
    "               'time_ran': None\n",
    "              },\n",
    "          'RandomForest':\n",
    "              {'classifier': RandomForestClassifier(random_state=10151997),\n",
    "               'preprocessor': preprocessor,\n",
    "               'output': None,\n",
    "               'fit_classifier': None,\n",
    "               'time_ran': None\n",
    "              },\n",
    "          'ExtraTrees':\n",
    "              {'classifier': ExtraTreesClassifier(random_state=20220125),\n",
    "                'preprocessor': preprocessor,\n",
    "                'output': None,\n",
    "                'fit_classifier': None,\n",
    "                'time_ran': None\n",
    "              },\n",
    "          'GradientBoost':\n",
    "              {'classifier': GradientBoostingClassifier(random_state=20220126),\n",
    "               'preprocessor': preprocessor,\n",
    "               'output': None,\n",
    "               'fit_classifier': None,\n",
    "               'time_ran': None\n",
    "              }\n",
    "         }"
   ]
  },
  {
   "cell_type": "code",
   "execution_count": 7,
   "metadata": {},
   "outputs": [],
   "source": [
    "def data_split(df=data, target=target_variable):\n",
    "    X = df.drop(columns=target)\n",
    "    y = df[target]\n",
    "    X_train, X_test, y_train, y_test = train_test_split(X, y, test_size=0.25, random_state=20211122)\n",
    "    return X_train, X_test, y_train, y_test"
   ]
  },
  {
   "cell_type": "code",
   "execution_count": 8,
   "metadata": {},
   "outputs": [],
   "source": [
    "tuned_params = {}\n",
    "\n",
    "def run_gridsearch(params, name, models=baseline, df=data, target=target_variable):\n",
    "    X_train, X_test, y_train, y_test = data_split(df, target)\n",
    "    for model, grid in params.items():\n",
    "        print(model, 'Grid Search:')\n",
    "        print(f'Time Started: {time.asctime()}')\n",
    "        pipe = Pipeline(steps=[('col_transformer', models[model]['preprocessor']), \n",
    "                               ('classifier', models[model]['classifier'])])\n",
    "        gridsearch = GridSearchCV(estimator=pipe, param_grid=grid, scoring='precision', cv=5)\n",
    "        gridsearch.fit(X_train, y_train)\n",
    "        print(f'Time Finished: {time.asctime()}')\n",
    "        print(f'Cross validation scores: {gridsearch.cv_results_[\"mean_test_score\"]}')\n",
    "        print(f'Best cross validation score: {gridsearch.best_score_ :.2%}')\n",
    "        print(f'Optimal parameters: {gridsearch.best_params_}')\n",
    "        tuned_params[name] = gridsearch.best_params_"
   ]
  },
  {
   "cell_type": "markdown",
   "metadata": {},
   "source": [
    "#### Logistic Regression Grid Search"
   ]
  },
  {
   "cell_type": "code",
   "execution_count": 9,
   "metadata": {},
   "outputs": [
    {
     "name": "stdout",
     "output_type": "stream",
     "text": [
      "LogisticRegression Grid Search:\n",
      "Time Started: Tue Jan 25 20:51:42 2022\n",
      "Time Finished: Tue Jan 25 20:59:57 2022\n",
      "Cross validation scores: [0.77332602 0.77332602 0.74772373 0.74772373 0.71925031 0.71916672\n",
      " 0.71888022 0.71861734 0.71371979 0.71372367 0.71418345 0.71392797]\n",
      "Best cross validation score: 77.33%\n",
      "Optimal parameters: {'classifier__C': 0.001, 'classifier__fit_intercept': True, 'classifier__solver': 'lbfgs'}\n"
     ]
    }
   ],
   "source": [
    "params_lr1 = {'LogisticRegression': [{\n",
    "    'classifier__C':[0.001, 0.1, 1],\n",
    "    'classifier__solver':['lbfgs', 'saga'],\n",
    "    'classifier__fit_intercept':[True, False]\n",
    "}]}\n",
    "run_gridsearch(params_lr1, name='LogisticRegression1')"
   ]
  },
  {
   "cell_type": "code",
   "execution_count": 10,
   "metadata": {},
   "outputs": [
    {
     "name": "stdout",
     "output_type": "stream",
     "text": [
      "Stored 'lr_best_params' (dict)\n"
     ]
    }
   ],
   "source": [
    "lr_best_params = tuned_params['LogisticRegression1']\n",
    "%store lr_best_params"
   ]
  },
  {
   "cell_type": "markdown",
   "metadata": {},
   "source": [
    "#### Decision Tree Grid Search"
   ]
  },
  {
   "cell_type": "code",
   "execution_count": 11,
   "metadata": {},
   "outputs": [
    {
     "name": "stdout",
     "output_type": "stream",
     "text": [
      "DecisionTree Grid Search:\n",
      "Time Started: Tue Jan 25 20:59:57 2022\n",
      "Time Finished: Tue Jan 25 21:08:13 2022\n",
      "Cross validation scores: [0.69209944 0.67199346 0.69209944 0.67199346 0.69209944 0.67199346\n",
      " 0.69209944 0.67199346 0.69817178 0.68696053 0.69822572 0.68438469\n",
      " 0.6990221  0.68339598 0.6990221  0.68339598 0.6440812  0.63539554\n",
      " 0.65072552 0.65842927 0.65167811 0.65212296 0.65167811 0.65212296\n",
      " 0.56625373 0.55760735 0.58655187 0.57344712 0.60218401 0.59621774\n",
      " 0.60218401 0.59621774 0.69209944 0.67199346 0.69209944 0.67199346\n",
      " 0.69209944 0.67199346 0.69209944 0.67199346 0.6934849  0.69443562\n",
      " 0.6934849  0.6836569  0.6918169  0.68824494 0.6918169  0.68824494\n",
      " 0.64120176 0.65311426 0.64325389 0.65469617 0.65419609 0.65335069\n",
      " 0.65419609 0.65335069 0.56637738 0.56025256 0.58205751 0.57802871\n",
      " 0.60047301 0.59532038 0.60047301 0.59532038]\n",
      "Best cross validation score: 69.90%\n",
      "Optimal parameters: {'classifier__criterion': 'gini', 'classifier__max_depth': 6, 'classifier__min_samples_leaf': 6, 'classifier__min_samples_split': 5, 'classifier__splitter': 'best'}\n"
     ]
    }
   ],
   "source": [
    "params_dt1 = {'DecisionTree': [{\n",
    "    'classifier__criterion':['gini', 'entropy'],\n",
    "    'classifier__splitter':['best', 'random'],\n",
    "    'classifier__max_depth':[2, 6, 10, 15],\n",
    "    'classifier__min_samples_split': [5, 10],\n",
    "    'classifier__min_samples_leaf': [3, 6],\n",
    "}]}\n",
    "run_gridsearch(params_dt1, name='DecisionTree1')"
   ]
  },
  {
   "cell_type": "code",
   "execution_count": 12,
   "metadata": {},
   "outputs": [
    {
     "name": "stdout",
     "output_type": "stream",
     "text": [
      "Stored 'dt_best_params' (dict)\n"
     ]
    }
   ],
   "source": [
    "dt_best_params = tuned_params['DecisionTree1']\n",
    "%store dt_best_params"
   ]
  },
  {
   "cell_type": "markdown",
   "metadata": {},
   "source": [
    "#### Random Forest Grid Search"
   ]
  },
  {
   "cell_type": "code",
   "execution_count": 13,
   "metadata": {},
   "outputs": [
    {
     "name": "stdout",
     "output_type": "stream",
     "text": [
      "RandomForest Grid Search:\n",
      "Time Started: Tue Jan 25 21:08:13 2022\n",
      "Time Finished: Tue Jan 25 21:25:16 2022\n",
      "Cross validation scores: [0.72834928 0.76945647 0.78667191 0.72927907 0.77673396 0.78931751\n",
      " 0.74437969 0.79197061 0.7994756  0.74437969 0.79197061 0.7994756\n",
      " 0.34021739 0.         0.         0.34021739 0.         0.\n",
      " 0.34021739 0.         0.         0.34021739 0.         0.\n",
      " 0.82585253 0.8525388  0.85711897 0.82382332 0.8502768  0.85781501\n",
      " 0.80142828 0.84884995 0.85660424 0.80142828 0.84884995 0.85660424\n",
      " 0.77910479 0.8073858  0.81451605 0.78164385 0.80951627 0.82229731\n",
      " 0.78165751 0.80954904 0.81844962 0.78165751 0.80954904 0.81844962\n",
      " 0.740037   0.77387887 0.78927022 0.75128236 0.78060724 0.79187341\n",
      " 0.75816643 0.77927285 0.80074886 0.75816643 0.77927285 0.80074886\n",
      " 0.16521739 0.         0.         0.16521739 0.         0.\n",
      " 0.16521739 0.         0.         0.16521739 0.         0.\n",
      " 0.82774048 0.84613908 0.85602812 0.824762   0.8524176  0.85560754\n",
      " 0.8128994  0.85180262 0.85590945 0.8128994  0.85180262 0.85590945\n",
      " 0.79211434 0.81271523 0.81770633 0.78618936 0.80989178 0.81727102\n",
      " 0.78524223 0.80056061 0.81451854 0.78524223 0.80056061 0.81451854]\n",
      "Best cross validation score: 85.78%\n",
      "Optimal parameters: {'classifier__criterion': 'gini', 'classifier__max_depth': 6, 'classifier__min_samples_leaf': 3, 'classifier__min_samples_split': 10, 'classifier__n_estimators': 100}\n"
     ]
    }
   ],
   "source": [
    "params_rf1 = {'RandomForest': [{\n",
    "    'classifier__n_estimators':[10, 30, 100],\n",
    "    'classifier__criterion':['gini', 'entropy'],\n",
    "    'classifier__max_depth':[None, 2, 6, 10],\n",
    "    'classifier__min_samples_split':[5, 10],\n",
    "    'classifier__min_samples_leaf':[3, 6]\n",
    "}]}\n",
    "run_gridsearch(params_rf1, name='RandomForest1')"
   ]
  },
  {
   "cell_type": "code",
   "execution_count": 14,
   "metadata": {},
   "outputs": [
    {
     "name": "stdout",
     "output_type": "stream",
     "text": [
      "RandomForest Grid Search:\n",
      "Time Started: Tue Jan 25 21:25:16 2022\n",
      "Time Finished: Tue Jan 25 21:35:03 2022\n",
      "Cross validation scores: [0.86348025 0.86916877 0.8672399  0.86581484 0.85828228 0.86554586\n",
      " 0.86589161 0.86438716 0.86019365 0.8665129  0.86366691 0.86765183\n",
      " 0.85552997 0.86261221 0.85475675 0.86134594 0.85449185 0.85802168\n",
      " 0.85270273 0.85877089 0.85781501 0.86193307 0.85666955 0.85954134\n",
      " 0.82935601 0.83243864 0.82793798 0.83106339 0.82874916 0.83311377\n",
      " 0.82681115 0.83609432 0.8247606  0.83442019 0.83131895 0.83922549]\n",
      "Best cross validation score: 86.92%\n",
      "Optimal parameters: {'classifier__max_depth': 5, 'classifier__min_samples_leaf': 1, 'classifier__min_samples_split': 10, 'classifier__n_estimators': 150}\n"
     ]
    }
   ],
   "source": [
    "params_rf2 = {'RandomForest': [{\n",
    "    'classifier__max_depth': [5, 6, 8], \n",
    "    'classifier__min_samples_leaf':[1, 2, 3], \n",
    "    'classifier__min_samples_split': [10, 15], \n",
    "    'classifier__n_estimators': [100, 150]\n",
    "}]}\n",
    "run_gridsearch(params_rf2, name='RandomForest2')"
   ]
  },
  {
   "cell_type": "code",
   "execution_count": 15,
   "metadata": {},
   "outputs": [
    {
     "name": "stdout",
     "output_type": "stream",
     "text": [
      "RandomForest Grid Search:\n",
      "Time Started: Tue Jan 25 21:35:03 2022\n",
      "Time Finished: Tue Jan 25 21:43:46 2022\n",
      "Cross validation scores: [0.76       0.925      0.925      0.76       0.925      0.925\n",
      " 0.76       0.925      0.925      0.94222222 0.93632279 0.93688187\n",
      " 0.94088889 0.93544631 0.93941845 0.94252991 0.9368475  0.93649311\n",
      " 0.86793955 0.86575031 0.8719752  0.86916877 0.86425856 0.87165903\n",
      " 0.86896581 0.8657069  0.87282453]\n",
      "Best cross validation score: 94.25%\n",
      "Optimal parameters: {'classifier__max_depth': 4, 'classifier__min_samples_leaf': 1, 'classifier__min_samples_split': 12, 'classifier__n_estimators': 150}\n"
     ]
    }
   ],
   "source": [
    "params_rf3 = {'RandomForest': [{\n",
    "    'classifier__max_depth': [3, 4, 5], \n",
    "    'classifier__min_samples_leaf':[1], \n",
    "    'classifier__min_samples_split': [8, 10, 12], \n",
    "    'classifier__n_estimators': [150, 200, 300]\n",
    "}]}\n",
    "run_gridsearch(params_rf3, name='RandomForest3')"
   ]
  },
  {
   "cell_type": "code",
   "execution_count": 16,
   "metadata": {},
   "outputs": [
    {
     "name": "stdout",
     "output_type": "stream",
     "text": [
      "RandomForest Grid Search:\n",
      "Time Started: Tue Jan 25 21:43:46 2022\n",
      "Time Finished: Tue Jan 25 21:44:45 2022\n",
      "Cross validation scores: [0.93544631 0.92849587 0.93631117]\n",
      "Best cross validation score: 93.63%\n",
      "Optimal parameters: {'classifier__max_depth': 4, 'classifier__min_samples_leaf': 1, 'classifier__min_samples_split': 10, 'classifier__n_estimators': 250}\n"
     ]
    }
   ],
   "source": [
    "params_rf4 = {'RandomForest': [{\n",
    "    'classifier__max_depth': [4], \n",
    "    'classifier__min_samples_leaf':[1], \n",
    "    'classifier__min_samples_split': [10], \n",
    "    'classifier__n_estimators': [200, 225, 250]\n",
    "}]}\n",
    "run_gridsearch(params_rf4, name='RandomForest4')"
   ]
  },
  {
   "cell_type": "code",
   "execution_count": 17,
   "metadata": {},
   "outputs": [
    {
     "name": "stdout",
     "output_type": "stream",
     "text": [
      "Stored 'rf_best_params' (dict)\n"
     ]
    }
   ],
   "source": [
    "rf_best_params = tuned_params['RandomForest4']\n",
    "%store rf_best_params"
   ]
  },
  {
   "cell_type": "markdown",
   "metadata": {},
   "source": [
    "#### Extra Trees Grid Search"
   ]
  },
  {
   "cell_type": "code",
   "execution_count": 18,
   "metadata": {},
   "outputs": [
    {
     "name": "stdout",
     "output_type": "stream",
     "text": [
      "ExtraTrees Grid Search:\n",
      "Time Started: Tue Jan 25 21:44:45 2022\n",
      "Time Finished: Tue Jan 25 22:01:43 2022\n",
      "Cross validation scores: [0.73740968 0.77556846 0.7925857  0.74504837 0.782159   0.79571527\n",
      " 0.76126053 0.79273261 0.80310892 0.76126053 0.79273261 0.80310892\n",
      " 0.         0.         0.         0.         0.         0.\n",
      " 0.         0.         0.         0.         0.         0.\n",
      " 0.82478932 0.87431847 0.86278711 0.80954916 0.86936681 0.87826212\n",
      " 0.82737153 0.87755512 0.88941167 0.82737153 0.87755512 0.88941167\n",
      " 0.78505397 0.81441699 0.82161139 0.77822105 0.81163727 0.82434729\n",
      " 0.79394288 0.82157933 0.82642731 0.79394288 0.82157933 0.82642731\n",
      " 0.74517303 0.77959971 0.78617052 0.74563427 0.78031464 0.79048635\n",
      " 0.77092441 0.79505357 0.80671093 0.77092441 0.79505357 0.80671093\n",
      " 0.         0.         0.         0.         0.         0.\n",
      " 0.         0.         0.         0.         0.         0.\n",
      " 0.8425626  0.8760777  0.88039135 0.8284872  0.87258835 0.8910092\n",
      " 0.82959337 0.88682954 0.89616994 0.82959337 0.88682954 0.89616994\n",
      " 0.79141655 0.82155544 0.82540216 0.79242783 0.82147347 0.82793829\n",
      " 0.8039822  0.82612569 0.82718827 0.8039822  0.82612569 0.82718827]\n",
      "Best cross validation score: 89.62%\n",
      "Optimal parameters: {'classifier__criterion': 'entropy', 'classifier__max_depth': 6, 'classifier__min_samples_leaf': 6, 'classifier__min_samples_split': 5, 'classifier__n_estimators': 100}\n"
     ]
    }
   ],
   "source": [
    "params_et1 = {'ExtraTrees': [{\n",
    "    'classifier__n_estimators':[10, 30, 100],\n",
    "    'classifier__criterion':['gini', 'entropy'],\n",
    "    'classifier__max_depth':[None, 2, 6, 10],\n",
    "    'classifier__min_samples_split':[5, 10],\n",
    "    'classifier__min_samples_leaf':[3, 6]\n",
    "}]}\n",
    "run_gridsearch(params_et1, name='ExtraTrees1')"
   ]
  },
  {
   "cell_type": "code",
   "execution_count": 19,
   "metadata": {},
   "outputs": [
    {
     "name": "stdout",
     "output_type": "stream",
     "text": [
      "ExtraTrees Grid Search:\n",
      "Time Started: Tue Jan 25 22:01:43 2022\n",
      "Time Finished: Tue Jan 25 22:18:49 2022\n",
      "Cross validation scores: [0.73740968 0.77556846 0.7925857  0.74504837 0.782159   0.79571527\n",
      " 0.76126053 0.79273261 0.80310892 0.76126053 0.79273261 0.80310892\n",
      " 0.         0.         0.         0.         0.         0.\n",
      " 0.         0.         0.         0.         0.         0.\n",
      " 0.82478932 0.87431847 0.86278711 0.80954916 0.86936681 0.87826212\n",
      " 0.82737153 0.87755512 0.88941167 0.82737153 0.87755512 0.88941167\n",
      " 0.78505397 0.81441699 0.82161139 0.77822105 0.81163727 0.82434729\n",
      " 0.79394288 0.82157933 0.82642731 0.79394288 0.82157933 0.82642731\n",
      " 0.74517303 0.77959971 0.78617052 0.74563427 0.78031464 0.79048635\n",
      " 0.77092441 0.79505357 0.80671093 0.77092441 0.79505357 0.80671093\n",
      " 0.         0.         0.         0.         0.         0.\n",
      " 0.         0.         0.         0.         0.         0.\n",
      " 0.8425626  0.8760777  0.88039135 0.8284872  0.87258835 0.8910092\n",
      " 0.82959337 0.88682954 0.89616994 0.82959337 0.88682954 0.89616994\n",
      " 0.79141655 0.82155544 0.82540216 0.79242783 0.82147347 0.82793829\n",
      " 0.8039822  0.82612569 0.82718827 0.8039822  0.82612569 0.82718827]\n",
      "Best cross validation score: 89.62%\n",
      "Optimal parameters: {'classifier__criterion': 'entropy', 'classifier__max_depth': 6, 'classifier__min_samples_leaf': 6, 'classifier__min_samples_split': 5, 'classifier__n_estimators': 100}\n"
     ]
    }
   ],
   "source": [
    "params_extra2 = {'ExtraTrees': [{\n",
    "    'regressor__n_estimators':[100, 200, 250],\n",
    "    'regressor__criterion':['gini', 'entropy'],\n",
    "    'regressor__max_depth':[3, 5, 6],\n",
    "    'regressor__min_samples_split':[8, 10, 15],\n",
    "    'regressor__min_samples_leaf':[1, 2, 3]\n",
    "    }]}\n",
    "run_gridsearch(params_et1, name='ExtraTrees2')"
   ]
  },
  {
   "cell_type": "code",
   "execution_count": 20,
   "metadata": {},
   "outputs": [
    {
     "name": "stdout",
     "output_type": "stream",
     "text": [
      "Stored 'et_best_params' (dict)\n"
     ]
    }
   ],
   "source": [
    "et_best_params = tuned_params['ExtraTrees2']\n",
    "%store et_best_params"
   ]
  },
  {
   "cell_type": "markdown",
   "metadata": {},
   "source": [
    "#### Gradient Boost Grid Search"
   ]
  },
  {
   "cell_type": "code",
   "execution_count": null,
   "metadata": {},
   "outputs": [],
   "source": [
    "params_gb1 = {'GradientBoost': [{\n",
    "    'classifier__loss': ['deviance', 'exponential'],\n",
    "    'classifier__n_estimators':[10, 30, 100],\n",
    "    'classifier__criterion':['friedman_mse', 'squared_error'],\n",
    "    'classifier__max_depth':[2, 6, 10],\n",
    "    'classifier__min_samples_split':[5, 10],\n",
    "    'classifier__min_samples_leaf':[3, 6]\n",
    "}]}\n",
    "run_gridsearch(params_gb1, name='GradientBoost1')"
   ]
  },
  {
   "cell_type": "code",
   "execution_count": null,
   "metadata": {},
   "outputs": [],
   "source": [
    "params_gb2 = {'GradientBoost': [{\n",
    "    'regressor__loss': ['exponential'],\n",
    "    'regressor__n_estimators':[100, 200, 300],\n",
    "    'regressor__criterion':['friedman_mse'],\n",
    "    'regressor__max_depth':[5, 6, 8],\n",
    "    'regressor__min_samples_split':[8, 10, 13],\n",
    "    'regressor__min_samples_leaf':[1, 3, 4]\n",
    "}]}\n",
    "run_gridsearch(params_gb2, name='GradientBoost2')"
   ]
  },
  {
   "cell_type": "code",
   "execution_count": null,
   "metadata": {},
   "outputs": [],
   "source": [
    "gb_best_params = tuned_params['GradientBoost1']\n",
    "%store gb_best_params"
   ]
  },
  {
   "cell_type": "markdown",
   "metadata": {},
   "source": [
    "# Contact <a class=\"anchor\" id=\"Contact\"></a>\n",
    "\n",
    "Any inquiries, please contact the contributors of this analysis:   \n",
    ">[Czarina Luna](https://www.linkedin.com/in/czarinagluna)  \n",
    "[Justin Sohn](https://www.linkedin.com/in/justin-sohn-689901193/)  \n",
    "[Weston Shuken](https://www.linkedin.com/in/westonshuken/)"
   ]
  }
 ],
 "metadata": {
  "kernelspec": {
   "display_name": "Python (learn-env)",
   "language": "python",
   "name": "learn-env"
  },
  "language_info": {
   "codemirror_mode": {
    "name": "ipython",
    "version": 3
   },
   "file_extension": ".py",
   "mimetype": "text/x-python",
   "name": "python",
   "nbconvert_exporter": "python",
   "pygments_lexer": "ipython3",
   "version": "3.8.5"
  }
 },
 "nbformat": 4,
 "nbformat_minor": 4
}
