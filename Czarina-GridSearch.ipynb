{
 "cells": [
  {
   "cell_type": "markdown",
   "metadata": {},
   "source": [
    "# Grid Search \n",
    "[Predicting H1N1 Vaccination Status](https://github.com/westonshuken/h1n1-and-flu-vaccine-predictor/blob/main/index.ipynb)\n",
    "\n",
    "Authors: Czarina Luna, Weston Shuken, Justin Sohn"
   ]
  },
  {
   "cell_type": "code",
   "execution_count": 5,
   "metadata": {},
   "outputs": [],
   "source": [
    "import pandas as pd\n",
    "import numpy as np\n",
    "import time\n",
    "\n",
    "from sklearn.preprocessing import FunctionTransformer, StandardScaler, OneHotEncoder\n",
    "from sklearn.pipeline import Pipeline\n",
    "from sklearn.impute import SimpleImputer\n",
    "from sklearn.compose import ColumnTransformer\n",
    "from sklearn.model_selection import train_test_split, GridSearchCV\n",
    "from sklearn.metrics import precision_score, roc_auc_score\n",
    "from sklearn.linear_model import LogisticRegression\n",
    "from sklearn.tree import DecisionTreeClassifier\n",
    "from sklearn.ensemble import RandomForestClassifier, ExtraTreesClassifier, GradientBoostingClassifier\n",
    "\n",
    "from imblearn.over_sampling import SMOTE\n",
    "from imblearn.pipeline import Pipeline as ImPipeline\n",
    "\n",
    "import warnings\n",
    "warnings.filterwarnings('ignore')"
   ]
  },
  {
   "cell_type": "code",
   "execution_count": 2,
   "metadata": {},
   "outputs": [],
   "source": [
    "labels = pd.read_csv('data/training_set_labels.csv')\n",
    "features = pd.read_csv('data/training_set_features.csv')\n",
    "data = pd.merge(features, labels, on=\"respondent_id\").drop(columns='respondent_id')\n",
    "\n",
    "data['health_insurance'] = data['health_insurance'].fillna(3)\n",
    "data[['employment_industry', 'employment_occupation']] = data[['employment_industry', 'employment_occupation']].fillna('Unknown')\n",
    "\n",
    "target_variable = 'h1n1_vaccine'\n",
    "other_target = 'seasonal_vaccine'"
   ]
  },
  {
   "cell_type": "code",
   "execution_count": 3,
   "metadata": {},
   "outputs": [],
   "source": [
    "def split_train_test(df=data, target=target_variable):\n",
    "    X = df.drop(columns=[target, other_target])\n",
    "    y = df[target]\n",
    "    X_train, X_test, y_train, y_test = train_test_split(X, y, test_size=0.25, random_state=20211122, stratify=y)\n",
    "    return X_train, X_test, y_train, y_test"
   ]
  },
  {
   "cell_type": "code",
   "execution_count": 6,
   "metadata": {},
   "outputs": [],
   "source": [
    "def grab_numeric(df):\n",
    "    return df.select_dtypes(['float64', 'int64'])\n",
    "\n",
    "GrabNumeric = FunctionTransformer(grab_numeric)\n",
    "\n",
    "numeric_transformer = Pipeline(\n",
    "    steps=[('grab_num', GrabNumeric), \n",
    "           ('num_impute', SimpleImputer(strategy='median', add_indicator=True)), \n",
    "           ('scaler', StandardScaler())])\n",
    "\n",
    "num_features = list(range(0, 21)) + [31, 32]\n",
    "cat_features = list(range(21, 31)) + [33, 34]\n",
    "\n",
    "categorical_transformer = Pipeline(\n",
    "    steps=[('cat_impute', SimpleImputer(strategy='most_frequent')),\n",
    "           ('ohe', OneHotEncoder(sparse=False, handle_unknown='ignore'))])\n",
    "\n",
    "preprocessor = ColumnTransformer(\n",
    "    transformers=[(\"num\", numeric_transformer, num_features),\n",
    "                  (\"cat\", categorical_transformer, cat_features)], remainder='passthrough')\n",
    "\n",
    "sm = SMOTE(sampling_strategy='minority', random_state=20211122)"
   ]
  },
  {
   "cell_type": "code",
   "execution_count": 7,
   "metadata": {},
   "outputs": [],
   "source": [
    "def run_model(dict_model, df=data, target=target_variable):\n",
    "    \"\"\"\n",
    "    Run model\n",
    "    \"\"\"\n",
    "    X_train, X_test, y_train, y_test = split_train_test(df, target)\n",
    "    \n",
    "    metric_table = pd.DataFrame(columns=['Model', 'CV Score', 'Accuracy', 'Precision', 'Recall', 'F1 Score', 'AUC Score'])\n",
    "    \n",
    "    for name, model in dict_model.items():\n",
    "        print(f'Running... {name} Model:')\n",
    "        pipeline = ImPipeline(steps=[('preprocessor', preprocessor), \n",
    "                                     ('smote', sm),\n",
    "                                     ('classifier', model['classifier'])])\n",
    "        \n",
    "        pipeline.fit(X_train, y_train)\n",
    "        \n",
    "        cv_scores = cross_val_score(pipeline, X_train, y_train, cv=5)\n",
    "        cv_scores_mean = np.mean(cv_scores)\n",
    "        cv_scores_median = np.median(cv_scores)\n",
    "        \n",
    "        y_pred = pipeline.predict(X_test)\n",
    "        \n",
    "        accuracy = round(accuracy_score(y_test, y_pred), 4)\n",
    "        precision = round(precision_score(y_test, y_pred), 4)\n",
    "        recall = round(recall_score(y_test, y_pred), 4)\n",
    "        f1 = round(f1_score(y_test, y_pred), 4)\n",
    "        auc_score = round(roc_auc_score(y_test, y_pred), 4)\n",
    "        \n",
    "        print(f'Cross Validation Scores: {cv_scores}.')\n",
    "        print(f'Mean Cross Validation Score: {cv_scores_mean}.')\n",
    "        print(f'Median Cross Validation Score: {cv_scores_median}.')\n",
    "        print(f'Test Accuracy Score: {cv_scores}.\\n')\n",
    "        \n",
    "        metric_table = metric_table.append({'Model': name, 'CV Score': cv_scores_median, \n",
    "                                            'Accuracy': accuracy, 'Precision': precision, \n",
    "                                            'Recall': recall, 'F1 Score': f1,\n",
    "                                            'AUC Score': auc_score}, ignore_index=True) \n",
    "        \n",
    "    return metric_table"
   ]
  },
  {
   "cell_type": "code",
   "execution_count": 17,
   "metadata": {},
   "outputs": [],
   "source": [
    "tuned_params = {}\n",
    "\n",
    "baseline_models = {'LogisticRegression': {'classifier': LogisticRegression(random_state=20211122, max_iter=1000)},\n",
    "                   'DecisionTree': {'classifier': DecisionTreeClassifier(random_state=20211122)},\n",
    "                   'RandomForest': {'classifier': RandomForestClassifier(random_state=20211122)},\n",
    "                   'ExtraTrees': {'classifier': ExtraTreesClassifier(random_state=20211122)},\n",
    "                   'GradientBoost': {'classifier': GradientBoostingClassifier(random_state=20211122)}}\n",
    "\n",
    "def run_gridsearch(params, name, models=baseline_models, df=data, target=target_variable):\n",
    "    \"\"\"\n",
    "    Run GridSearchCV\n",
    "    \"\"\"\n",
    "    X_train, X_test, y_train, y_test = split_train_test(df, target)\n",
    "    \n",
    "    for model, grid in params.items():\n",
    "        print(f'Running... {model} Grid Search:')\n",
    "        print(f'Time Started: {time.asctime()}')\n",
    "        \n",
    "        pipeline = ImPipeline(steps=[('preprocessor', preprocessor), \n",
    "                                     ('smote', sm),\n",
    "                                     ('classifier', models[model]['classifier'])])\n",
    "        \n",
    "        gridsearch = GridSearchCV(estimator=pipeline, param_grid=grid, scoring='accuracy', cv=5, error_score='raise')\n",
    "        gridsearch.fit(X_train, y_train)\n",
    "        \n",
    "        print(f'Time Finished: {time.asctime()}\\n')\n",
    "        print(f'Mean Cross Validation Score: {np.mean(gridsearch.cv_results_[\"mean_test_score\"])}')\n",
    "        print(f'Median Cross Validation Score: {np.median(gridsearch.cv_results_[\"mean_test_score\"])}')\n",
    "        print(f'Optimal parameters: {gridsearch.best_params_}')\n",
    "        \n",
    "        tuned_params[name] = gridsearch.best_params_"
   ]
  },
  {
   "cell_type": "markdown",
   "metadata": {},
   "source": [
    "#### Logistic Regression Grid Search"
   ]
  },
  {
   "cell_type": "code",
   "execution_count": 18,
   "metadata": {},
   "outputs": [
    {
     "name": "stdout",
     "output_type": "stream",
     "text": [
      "Running... LogisticRegression Grid Search:\n",
      "Time Started: Wed Jan 26 22:44:52 2022\n",
      "Time Finished: Wed Jan 26 22:55:58 2022\n",
      "\n",
      "Mean Cross Validation Score: 0.7875811283075387\n",
      "Median Cross Validation Score: 0.7884173739390914\n",
      "Optimal parameters: {'classifier__C': 1, 'classifier__fit_intercept': True, 'classifier__solver': 'lbfgs'}\n"
     ]
    }
   ],
   "source": [
    "params_lr1 = {'LogisticRegression': [{\n",
    "    'classifier__C':[0.001, 0.1, 1],\n",
    "    'classifier__solver':['lbfgs', 'saga'],\n",
    "    'classifier__fit_intercept':[True, False]\n",
    "}]}\n",
    "run_gridsearch(params_lr1, name='LogisticRegression1')"
   ]
  },
  {
   "cell_type": "code",
   "execution_count": 19,
   "metadata": {},
   "outputs": [
    {
     "name": "stdout",
     "output_type": "stream",
     "text": [
      "Running... LogisticRegression Grid Search:\n",
      "Time Started: Wed Jan 26 22:58:52 2022\n",
      "Time Finished: Wed Jan 26 23:00:39 2022\n",
      "\n",
      "Mean Cross Validation Score: 0.7889831918788485\n",
      "Median Cross Validation Score: 0.7889166250624065\n",
      "Optimal parameters: {'classifier__C': 1, 'classifier__fit_intercept': True, 'classifier__solver': 'lbfgs'}\n"
     ]
    }
   ],
   "source": [
    "params_lr2 = {'LogisticRegression': [{\n",
    "    'classifier__C':[1, 1e10, 1e100],\n",
    "    'classifier__solver':['lbfgs'],\n",
    "    'classifier__fit_intercept':[True]\n",
    "}]}\n",
    "run_gridsearch(params_lr2, name='LogisticRegression2')"
   ]
  },
  {
   "cell_type": "code",
   "execution_count": 20,
   "metadata": {},
   "outputs": [
    {
     "name": "stdout",
     "output_type": "stream",
     "text": [
      "Stored 'lr_best_params_cza' (dict)\n"
     ]
    }
   ],
   "source": [
    "lr_best_params_cza = tuned_params['LogisticRegression2']\n",
    "%store lr_best_params_cza"
   ]
  },
  {
   "cell_type": "markdown",
   "metadata": {},
   "source": [
    "#### Decision Tree Grid Search"
   ]
  },
  {
   "cell_type": "code",
   "execution_count": 21,
   "metadata": {},
   "outputs": [
    {
     "name": "stdout",
     "output_type": "stream",
     "text": [
      "Running... DecisionTree Grid Search:\n",
      "Time Started: Wed Jan 26 23:02:34 2022\n",
      "Time Finished: Wed Jan 26 23:24:48 2022\n",
      "\n",
      "Mean Cross Validation Score: 0.7876333936595108\n",
      "Median Cross Validation Score: 0.8087119321018472\n",
      "Optimal parameters: {'classifier__criterion': 'gini', 'classifier__max_depth': 10, 'classifier__min_samples_leaf': 3, 'classifier__min_samples_split': 5, 'classifier__splitter': 'best'}\n"
     ]
    }
   ],
   "source": [
    "params_dt1 = {'DecisionTree': [{\n",
    "    'classifier__criterion':['gini', 'entropy'],\n",
    "    'classifier__splitter':['best', 'random'],\n",
    "    'classifier__max_depth':[2, 6, 10, 15],\n",
    "    'classifier__min_samples_split': [5, 10],\n",
    "    'classifier__min_samples_leaf': [3, 6],\n",
    "}]}\n",
    "run_gridsearch(params_dt1, name='DecisionTree1')"
   ]
  },
  {
   "cell_type": "code",
   "execution_count": 22,
   "metadata": {},
   "outputs": [
    {
     "name": "stdout",
     "output_type": "stream",
     "text": [
      "Running... DecisionTree Grid Search:\n",
      "Time Started: Wed Jan 26 23:29:54 2022\n",
      "Time Finished: Wed Jan 26 23:40:13 2022\n",
      "\n",
      "Mean Cross Validation Score: 0.8227251715020062\n",
      "Median Cross Validation Score: 0.8233150274588118\n",
      "Optimal parameters: {'classifier__criterion': 'gini', 'classifier__max_depth': 10, 'classifier__min_samples_leaf': 3, 'classifier__min_samples_split': 3, 'classifier__splitter': 'best'}\n"
     ]
    }
   ],
   "source": [
    "params_dt2 = {'DecisionTree': [{\n",
    "    'classifier__criterion':['gini'],\n",
    "    'classifier__splitter':['best'],\n",
    "    'classifier__max_depth':[8, 10, 12],\n",
    "    'classifier__min_samples_split': [3, 5, 8],\n",
    "    'classifier__min_samples_leaf': [1, 3, 4],\n",
    "}]}\n",
    "run_gridsearch(params_dt2, name='DecisionTree2')"
   ]
  },
  {
   "cell_type": "code",
   "execution_count": 24,
   "metadata": {},
   "outputs": [
    {
     "name": "stdout",
     "output_type": "stream",
     "text": [
      "Stored 'dt_best_params_cza' (dict)\n"
     ]
    }
   ],
   "source": [
    "dt_best_params_cza = tuned_params['DecisionTree2']\n",
    "%store dt_best_params_cza"
   ]
  },
  {
   "cell_type": "markdown",
   "metadata": {},
   "source": [
    "#### Random Forest Grid Search"
   ]
  },
  {
   "cell_type": "code",
   "execution_count": 25,
   "metadata": {},
   "outputs": [
    {
     "name": "stdout",
     "output_type": "stream",
     "text": [
      "Running... RandomForest Grid Search:\n",
      "Time Started: Wed Jan 26 23:46:51 2022\n",
      "Time Finished: Thu Jan 27 00:32:46 2022\n",
      "\n",
      "Mean Cross Validation Score: 0.8263302962223332\n",
      "Median Cross Validation Score: 0.8323764353469794\n",
      "Optimal parameters: {'classifier__criterion': 'entropy', 'classifier__max_depth': None, 'classifier__min_samples_leaf': 3, 'classifier__min_samples_split': 10, 'classifier__n_estimators': 100}\n"
     ]
    }
   ],
   "source": [
    "params_rf1 = {'RandomForest': [{\n",
    "    'classifier__n_estimators':[10, 30, 100],\n",
    "    'classifier__criterion':['gini', 'entropy'],\n",
    "    'classifier__max_depth':[None, 2, 6, 10],\n",
    "    'classifier__min_samples_split':[5, 10],\n",
    "    'classifier__min_samples_leaf':[3, 6]\n",
    "}]}\n",
    "run_gridsearch(params_rf1, name='RandomForest1')"
   ]
  },
  {
   "cell_type": "code",
   "execution_count": 27,
   "metadata": {},
   "outputs": [
    {
     "name": "stdout",
     "output_type": "stream",
     "text": [
      "Running... RandomForest Grid Search:\n",
      "Time Started: Thu Jan 27 00:35:40 2022\n",
      "Time Finished: Thu Jan 27 01:40:56 2022\n",
      "\n",
      "Mean Cross Validation Score: 0.8184519517020766\n",
      "Median Cross Validation Score: 0.8104593110334498\n",
      "Optimal parameters: {'classifier__criterion': 'entropy', 'classifier__max_depth': None, 'classifier__min_samples_leaf': 3, 'classifier__min_samples_split': 8, 'classifier__n_estimators': 100}\n"
     ]
    }
   ],
   "source": [
    "params_rf2 = {'RandomForest': [{\n",
    "    'classifier__criterion':['gini', 'entropy'],\n",
    "    'classifier__max_depth':[None, 1, 3], \n",
    "    'classifier__min_samples_leaf':[1, 2, 3], \n",
    "    'classifier__min_samples_split':[8, 10, 13], \n",
    "    'classifier__n_estimators':[100, 150]\n",
    "}]}\n",
    "run_gridsearch(params_rf2, name='RandomForest2')"
   ]
  },
  {
   "cell_type": "code",
   "execution_count": 28,
   "metadata": {},
   "outputs": [
    {
     "name": "stdout",
     "output_type": "stream",
     "text": [
      "Running... RandomForest Grid Search:\n",
      "Time Started: Thu Jan 27 01:42:32 2022\n",
      "Time Finished: Thu Jan 27 01:49:06 2022\n",
      "\n",
      "Mean Cross Validation Score: 0.8498751872191713\n",
      "Median Cross Validation Score: 0.8497503744383426\n",
      "Optimal parameters: {'classifier__max_depth': None, 'classifier__min_samples_leaf': 3, 'classifier__min_samples_split': 9, 'classifier__n_estimators': 100}\n"
     ]
    }
   ],
   "source": [
    "params_rf3 = {'RandomForest': [{\n",
    "    'classifier__max_depth':[None], \n",
    "    'classifier__min_samples_leaf':[3], \n",
    "    'classifier__min_samples_split':[7, 8, 9], \n",
    "    'classifier__n_estimators':[100, 120]\n",
    "}]}\n",
    "run_gridsearch(params_rf3, name='RandomForest3')"
   ]
  },
  {
   "cell_type": "code",
   "execution_count": 29,
   "metadata": {},
   "outputs": [
    {
     "name": "stdout",
     "output_type": "stream",
     "text": [
      "Running... RandomForest Grid Search:\n",
      "Time Started: Thu Jan 27 01:54:52 2022\n",
      "Time Finished: Thu Jan 27 01:57:40 2022\n",
      "\n",
      "Mean Cross Validation Score: 0.8504742885671491\n",
      "Median Cross Validation Score: 0.8507738392411384\n",
      "Optimal parameters: {'classifier__max_depth': None, 'classifier__min_samples_leaf': 3, 'classifier__min_samples_split': 10, 'classifier__n_estimators': 100}\n"
     ]
    }
   ],
   "source": [
    "params_rf4 = {'RandomForest': [{\n",
    "    'classifier__max_depth': [None], \n",
    "    'classifier__min_samples_leaf':[3], \n",
    "    'classifier__min_samples_split':[9, 10, 11], \n",
    "    'classifier__n_estimators':[100]\n",
    "}]}\n",
    "run_gridsearch(params_rf4, name='RandomForest4')"
   ]
  },
  {
   "cell_type": "code",
   "execution_count": 30,
   "metadata": {},
   "outputs": [
    {
     "name": "stdout",
     "output_type": "stream",
     "text": [
      "Running... RandomForest Grid Search:\n",
      "Time Started: Thu Jan 27 02:03:10 2022\n",
      "Time Finished: Thu Jan 27 02:09:36 2022\n",
      "\n",
      "Mean Cross Validation Score: nan\n",
      "Median Cross Validation Score: nan\n",
      "Optimal parameters: {'classifier__class_weight': 'balanced', 'classifier__criterion': 'entropy', 'classifier__max_depth': None, 'classifier__max_features': 'sqrt', 'classifier__min_samples_leaf': 3, 'classifier__min_samples_split': 10, 'classifier__n_estimators': 100}\n"
     ]
    }
   ],
   "source": [
    "params_rf5 = {'RandomForest': [{\n",
    "    'classifier__criterion':['entropy'],\n",
    "    'classifier__max_depth':[None], \n",
    "    'classifier__min_samples_leaf':[3], \n",
    "    'classifier__min_samples_split': [1, 10], \n",
    "    'classifier__n_estimators':[100],\n",
    "    'classifier__max_features':['sqrt', 'log2'],\n",
    "    'classifier__class_weight':['balanced', 'balanced_subsample']\n",
    "}]}\n",
    "run_gridsearch(params_rf5, name='RandomForest5')"
   ]
  },
  {
   "cell_type": "code",
   "execution_count": 31,
   "metadata": {},
   "outputs": [
    {
     "name": "stdout",
     "output_type": "stream",
     "text": [
      "Stored 'rf_best_params_cza' (dict)\n"
     ]
    }
   ],
   "source": [
    "rf_best_params_cza = tuned_params['RandomForest4']\n",
    "%store rf_best_params_cza"
   ]
  },
  {
   "cell_type": "markdown",
   "metadata": {},
   "source": [
    "#### Extra Trees Grid Search"
   ]
  },
  {
   "cell_type": "code",
   "execution_count": 32,
   "metadata": {},
   "outputs": [
    {
     "name": "stdout",
     "output_type": "stream",
     "text": [
      "Running... ExtraTrees Grid Search:\n",
      "Time Started: Thu Jan 27 02:15:04 2022\n",
      "Time Finished: Thu Jan 27 03:03:09 2022\n",
      "\n",
      "Mean Cross Validation Score: 0.8066634423364952\n",
      "Median Cross Validation Score: 0.8133549675486771\n",
      "Optimal parameters: {'classifier__criterion': 'gini', 'classifier__max_depth': None, 'classifier__min_samples_leaf': 3, 'classifier__min_samples_split': 5, 'classifier__n_estimators': 100}\n"
     ]
    }
   ],
   "source": [
    "params_et1 = {'ExtraTrees': [{\n",
    "    'classifier__n_estimators':[10, 30, 100],\n",
    "    'classifier__criterion':['gini', 'entropy'],\n",
    "    'classifier__max_depth':[None, 2, 6, 10],\n",
    "    'classifier__min_samples_split':[5, 10],\n",
    "    'classifier__min_samples_leaf':[3, 6]\n",
    "}]}\n",
    "run_gridsearch(params_et1, name='ExtraTrees1')"
   ]
  },
  {
   "cell_type": "code",
   "execution_count": 33,
   "metadata": {},
   "outputs": [
    {
     "name": "stdout",
     "output_type": "stream",
     "text": [
      "Running... ExtraTrees Grid Search:\n",
      "Time Started: Thu Jan 27 03:07:00 2022\n",
      "Time Finished: Thu Jan 27 03:52:14 2022\n",
      "\n",
      "Mean Cross Validation Score: 0.8066634423364952\n",
      "Median Cross Validation Score: 0.8133549675486771\n",
      "Optimal parameters: {'classifier__criterion': 'gini', 'classifier__max_depth': None, 'classifier__min_samples_leaf': 3, 'classifier__min_samples_split': 5, 'classifier__n_estimators': 100}\n"
     ]
    }
   ],
   "source": [
    "params_extra2 = {'ExtraTrees': [{\n",
    "    'regressor__n_estimators':[100, 200],\n",
    "    'regressor__criterion':['gini'],\n",
    "    'regressor__max_depth':[None, 1, 3],\n",
    "    'regressor__min_samples_split':[1, 3, 5],\n",
    "    'regressor__min_samples_leaf':[1, 2, 3]\n",
    "    }]}\n",
    "run_gridsearch(params_et1, name='ExtraTrees2')"
   ]
  },
  {
   "cell_type": "code",
   "execution_count": null,
   "metadata": {},
   "outputs": [],
   "source": [
    "et_best_params_cza = tuned_params['ExtraTrees2']\n",
    "%store et_best_params_cza"
   ]
  },
  {
   "cell_type": "markdown",
   "metadata": {},
   "source": [
    "#### Gradient Boost Grid Search"
   ]
  },
  {
   "cell_type": "code",
   "execution_count": 34,
   "metadata": {},
   "outputs": [
    {
     "name": "stdout",
     "output_type": "stream",
     "text": [
      "Running... GradientBoost Grid Search:\n",
      "Time Started: Thu Jan 27 03:52:14 2022\n",
      "Time Finished: Thu Jan 27 06:12:28 2022\n",
      "\n",
      "Mean Cross Validation Score: nan\n",
      "Median Cross Validation Score: nan\n",
      "Optimal parameters: {'classifier__criterion': 'friedman_mse', 'classifier__loss': 'deviance', 'classifier__max_depth': 6, 'classifier__min_samples_leaf': 3, 'classifier__min_samples_split': 5, 'classifier__n_estimators': 100}\n"
     ]
    }
   ],
   "source": [
    "params_gb1 = {'GradientBoost': [{\n",
    "    'classifier__loss': ['deviance', 'exponential'],\n",
    "    'classifier__n_estimators':[10, 30, 100],\n",
    "    'classifier__criterion':['friedman_mse', 'squared_error'],\n",
    "    'classifier__max_depth':[2, 6, 10],\n",
    "    'classifier__min_samples_split':[5, 10],\n",
    "    'classifier__min_samples_leaf':[3, 6],\n",
    "}]}\n",
    "run_gridsearch(params_gb1, name='GradientBoost1')"
   ]
  },
  {
   "cell_type": "code",
   "execution_count": null,
   "metadata": {},
   "outputs": [
    {
     "name": "stdout",
     "output_type": "stream",
     "text": [
      "Running... GradientBoost Grid Search:\n",
      "Time Started: Thu Jan 27 06:12:28 2022\n"
     ]
    }
   ],
   "source": [
    "params_gb2 = {'GradientBoost': [{\n",
    "    'classifier__loss': ['exponential'],\n",
    "    'classifier__n_estimators':[100, 200, 300],\n",
    "    'classifier__criterion':['friedman_mse'],\n",
    "    'classifier__max_depth':[5, 6, 8],\n",
    "    'classifier__min_samples_split':[8, 10, 13],\n",
    "    'classifier__min_samples_leaf':[1, 3, 4]\n",
    "}]}\n",
    "run_gridsearch(params_gb2, name='GradientBoost2')"
   ]
  },
  {
   "cell_type": "code",
   "execution_count": null,
   "metadata": {},
   "outputs": [],
   "source": [
    "gb_best_params_cza = tuned_params['GradientBoost1']\n",
    "%store gb_best_params_cza"
   ]
  },
  {
   "cell_type": "markdown",
   "metadata": {},
   "source": [
    "# Contact <a class=\"anchor\" id=\"Contact\"></a>\n",
    "\n",
    "Any inquiries, please contact the contributors of this analysis:   \n",
    ">[Czarina Luna](https://www.linkedin.com/in/czarinagluna)  \n",
    "[Justin Sohn](https://www.linkedin.com/in/justin-sohn-689901193/)  \n",
    "[Weston Shuken](https://www.linkedin.com/in/westonshuken/)"
   ]
  }
 ],
 "metadata": {
  "kernelspec": {
   "display_name": "Python (learn-env)",
   "language": "python",
   "name": "learn-env"
  },
  "language_info": {
   "codemirror_mode": {
    "name": "ipython",
    "version": 3
   },
   "file_extension": ".py",
   "mimetype": "text/x-python",
   "name": "python",
   "nbconvert_exporter": "python",
   "pygments_lexer": "ipython3",
   "version": "3.8.5"
  }
 },
 "nbformat": 4,
 "nbformat_minor": 4
}
