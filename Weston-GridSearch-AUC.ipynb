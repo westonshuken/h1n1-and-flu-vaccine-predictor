{
 "cells": [
  {
   "cell_type": "markdown",
   "metadata": {},
   "source": [
    "# Grid Search (AUC)\n",
    "##### Authors: Czarina Luna, Weston Shuken, Justin Sohn"
   ]
  },
  {
   "cell_type": "code",
   "execution_count": 1,
   "metadata": {},
   "outputs": [],
   "source": [
    "import pandas as pd\n",
    "import numpy as np\n",
    "\n",
    "labels = pd.read_csv('data/training_set_labels.csv')\n",
    "features = pd.read_csv('data/training_set_features.csv')\n",
    "data = pd.merge(labels, features, on=\"respondent_id\").drop(columns=['respondent_id', 'seasonal_vaccine'])\n",
    "target_variable = 'h1n1_vaccine'"
   ]
  },
  {
   "cell_type": "code",
   "execution_count": 2,
   "metadata": {},
   "outputs": [],
   "source": [
    "import time\n",
    "\n",
    "from sklearn.preprocessing import FunctionTransformer, StandardScaler, OneHotEncoder\n",
    "from sklearn.pipeline import Pipeline\n",
    "from sklearn.impute import SimpleImputer\n",
    "from sklearn.compose import ColumnTransformer\n",
    "from sklearn.model_selection import train_test_split, GridSearchCV\n",
    "from sklearn.metrics import precision_score, roc_auc_score\n",
    "from sklearn.linear_model import LogisticRegression\n",
    "from sklearn.tree import DecisionTreeClassifier\n",
    "from sklearn.ensemble import RandomForestClassifier, ExtraTreesClassifier, GradientBoostingClassifier\n",
    "\n",
    "import warnings\n",
    "warnings.filterwarnings('ignore')"
   ]
  },
  {
   "cell_type": "code",
   "execution_count": 3,
   "metadata": {},
   "outputs": [],
   "source": [
    "def grab_numeric(df):\n",
    "    return df.select_dtypes(['float64', 'int64'])\n",
    "\n",
    "GrabNumeric = FunctionTransformer(grab_numeric)"
   ]
  },
  {
   "cell_type": "code",
   "execution_count": 4,
   "metadata": {},
   "outputs": [],
   "source": [
    "numeric_transformer = Pipeline(\n",
    "    steps=[('grab_num', GrabNumeric), \n",
    "           ('num_impute', SimpleImputer(strategy='median', add_indicator=True)), \n",
    "           ('scaler', StandardScaler())])\n",
    "\n",
    "categorical_transformer = Pipeline(\n",
    "    steps=[('cat_impute', SimpleImputer(strategy='most_frequent')),\n",
    "           ('ohe', OneHotEncoder(sparse=False, handle_unknown='ignore'))])"
   ]
  },
  {
   "cell_type": "code",
   "execution_count": 5,
   "metadata": {},
   "outputs": [],
   "source": [
    "num_features = list(range(0, 21)) + [31, 32]\n",
    "cat_features = list(range(21, 31)) + [33, 34]\n",
    "\n",
    "preprocessor = ColumnTransformer(\n",
    "    transformers=[\n",
    "        (\"num\", numeric_transformer, num_features),\n",
    "        (\"cat\", categorical_transformer, cat_features)], remainder='passthrough')"
   ]
  },
  {
   "cell_type": "code",
   "execution_count": 6,
   "metadata": {},
   "outputs": [],
   "source": [
    "baseline = {'LogisticRegression':\n",
    "              {'classifier': LogisticRegression(random_state=20220124, max_iter=1000),\n",
    "               'preprocessor': preprocessor,\n",
    "               'output': None,\n",
    "               'fit_classifier': None,\n",
    "               'time_ran' : None\n",
    "              },\n",
    "          'DecisionTree':\n",
    "              {'classifier': DecisionTreeClassifier(random_state=20211122),\n",
    "               'preprocessor': preprocessor,\n",
    "               'output': None,\n",
    "               'fit_classifier': None,\n",
    "               'time_ran': None\n",
    "              },\n",
    "          'RandomForest':\n",
    "              {'classifier': RandomForestClassifier(random_state=10151997),\n",
    "               'preprocessor': preprocessor,\n",
    "               'output': None,\n",
    "               'fit_classifier': None,\n",
    "               'time_ran': None\n",
    "              },\n",
    "          'ExtraTrees':\n",
    "              {'classifier': ExtraTreesClassifier(random_state=20220125),\n",
    "                'preprocessor': preprocessor,\n",
    "                'output': None,\n",
    "                'fit_classifier': None,\n",
    "                'time_ran': None\n",
    "              },\n",
    "          'GradientBoost':\n",
    "              {'classifier': GradientBoostingClassifier(random_state=20220126),\n",
    "               'preprocessor': preprocessor,\n",
    "               'output': None,\n",
    "               'fit_classifier': None,\n",
    "               'time_ran': None\n",
    "              }\n",
    "         }"
   ]
  },
  {
   "cell_type": "code",
   "execution_count": 7,
   "metadata": {},
   "outputs": [],
   "source": [
    "def data_split(df=data, target=target_variable):\n",
    "    X = df.drop(columns=target)\n",
    "    y = df[target]\n",
    "    X_train, X_test, y_train, y_test = train_test_split(X, y, test_size=0.25, random_state=20211122)\n",
    "    return X_train, X_test, y_train, y_test"
   ]
  },
  {
   "cell_type": "code",
   "execution_count": 8,
   "metadata": {},
   "outputs": [],
   "source": [
    "tuned_models = {}\n",
    "\n",
    "def run_gridsearch(params, name, models=baseline, df=data, target=target_variable, score='precision'):\n",
    "    X_train, X_test, y_train, y_test = data_split(df, target)\n",
    "    for model, grid in params.items():\n",
    "        print(model, 'Grid Search:')\n",
    "        print(f'Time Started: {time.asctime()}')\n",
    "        pipe = Pipeline(steps=[('col_transformer', models[model]['preprocessor']), \n",
    "                               ('classifier', models[model]['classifier'])])\n",
    "        gridsearch = GridSearchCV(estimator=pipe, param_grid=grid, scoring=score, cv=5)\n",
    "        gridsearch.fit(X_train, y_train)\n",
    "        print(f'Time Finished: {time.asctime()}')\n",
    "        print(f'Cross validation scores: {gridsearch.cv_results_[\"mean_test_score\"]}')\n",
    "        print(f'Best cross validation score: {gridsearch.best_score_ :.2%}')\n",
    "        print(f'Optimal parameters: {gridsearch.best_params_}')\n",
    "        tuned_models[name] = gridsearch.best_params_"
   ]
  },
  {
   "cell_type": "markdown",
   "metadata": {},
   "source": [
    "#### Logistic Regression\n"
   ]
  },
  {
   "cell_type": "code",
   "execution_count": 9,
   "metadata": {},
   "outputs": [
    {
     "name": "stdout",
     "output_type": "stream",
     "text": [
      "LogisticRegression Grid Search:\n",
      "Time Started: Wed Jan 26 09:19:01 2022\n",
      "Time Finished: Wed Jan 26 09:19:16 2022\n",
      "Cross validation scores: [0.85363743 0.86061299 0.8602602 ]\n",
      "Best cross validation score: 86.06%\n",
      "Optimal parameters: {'classifier__C': 0.1}\n"
     ]
    }
   ],
   "source": [
    "params_lr1 = {'LogisticRegression': [{\n",
    "    'classifier__C':[0.001, 0.1, 1]\n",
    "}]}\n",
    "run_gridsearch(params_lr1, name='LogisticRegression1_auc', score='roc_auc')"
   ]
  },
  {
   "cell_type": "code",
   "execution_count": 10,
   "metadata": {},
   "outputs": [
    {
     "name": "stdout",
     "output_type": "stream",
     "text": [
      "LogisticRegression Grid Search:\n",
      "Time Started: Wed Jan 26 09:19:16 2022\n",
      "Time Finished: Wed Jan 26 09:22:57 2022\n",
      "Cross validation scores: [0.85363743 0.85363713 0.85203001 0.85203136 0.86061299 0.8606205\n",
      " 0.86063918 0.86064038 0.8602602  0.86027003 0.86026155 0.86026657]\n",
      "Best cross validation score: 86.06%\n",
      "Optimal parameters: {'classifier__C': 0.1, 'classifier__fit_intercept': False, 'classifier__solver': 'saga'}\n"
     ]
    }
   ],
   "source": [
    "params_lr2 = {'LogisticRegression': [{\n",
    "    'classifier__C':[0.001, 0.1, 1],\n",
    "    'classifier__solver':['lbfgs', 'saga'],\n",
    "    'classifier__fit_intercept':[True, False]\n",
    "}]}\n",
    "run_gridsearch(params_lr2, name='LogisticRegression2_auc', score='roc_auc')"
   ]
  },
  {
   "cell_type": "code",
   "execution_count": 11,
   "metadata": {},
   "outputs": [
    {
     "name": "stdout",
     "output_type": "stream",
     "text": [
      "LogisticRegression Grid Search:\n",
      "Time Started: Wed Jan 26 09:22:57 2022\n",
      "Time Finished: Wed Jan 26 09:27:10 2022\n",
      "Cross validation scores: [0.86058046 0.86058166 0.86058759 0.86058249 0.86061299 0.8606205\n",
      " 0.86063918 0.86064038 0.86058267 0.86058462 0.86060181 0.86060331]\n",
      "Best cross validation score: 86.06%\n",
      "Optimal parameters: {'classifier__C': 0.1, 'classifier__fit_intercept': False, 'classifier__max_iter': 10000, 'classifier__solver': 'saga'}\n"
     ]
    }
   ],
   "source": [
    "params_lr3 = {'LogisticRegression': [{\n",
    "    'classifier__C':[0.05, 0.1, 0.15],\n",
    "    'classifier__solver':['saga'],\n",
    "    'classifier__fit_intercept':[False],\n",
    "    'classifier__max_iter': [10000]\n",
    "}]}\n",
    "run_gridsearch(params_lr3, name='LogisticRegression3_auc', score='roc_auc')"
   ]
  },
  {
   "cell_type": "code",
   "execution_count": 12,
   "metadata": {},
   "outputs": [
    {
     "name": "stdout",
     "output_type": "stream",
     "text": [
      "Stored 'lr_best_params_auc' (dict)\n"
     ]
    }
   ],
   "source": [
    "lr_best_params_auc = tuned_models['LogisticRegression2_auc']\n",
    "%store lr_best_params_auc"
   ]
  },
  {
   "cell_type": "markdown",
   "metadata": {},
   "source": [
    "#### Decision Tree Grid Search\n"
   ]
  },
  {
   "cell_type": "code",
   "execution_count": 13,
   "metadata": {},
   "outputs": [
    {
     "name": "stdout",
     "output_type": "stream",
     "text": [
      "DecisionTree Grid Search:\n",
      "Time Started: Wed Jan 26 09:27:56 2022\n",
      "Time Finished: Wed Jan 26 09:28:22 2022\n",
      "Cross validation scores: [0.76406813 0.83715147 0.77845353 0.6821526  0.76406813 0.83809465\n",
      " 0.78603583 0.71568881]\n",
      "Best cross validation score: 83.81%\n",
      "Optimal parameters: {'classifier__criterion': 'entropy', 'classifier__max_depth': 6}\n"
     ]
    }
   ],
   "source": [
    "params_dt1 = {'DecisionTree': [{\n",
    "    'classifier__criterion':['gini', 'entropy'],\n",
    "    'classifier__max_depth':[2, 6, 10, 15]\n",
    "}]}\n",
    "run_gridsearch(params_dt1, name='DecisionTree1_auc', score='roc_auc')"
   ]
  },
  {
   "cell_type": "code",
   "execution_count": 14,
   "metadata": {},
   "outputs": [
    {
     "name": "stdout",
     "output_type": "stream",
     "text": [
      "DecisionTree Grid Search:\n",
      "Time Started: Wed Jan 26 09:30:55 2022\n",
      "Time Finished: Wed Jan 26 09:31:14 2022\n",
      "Cross validation scores: [0.82483555 0.82483555 0.83809465 0.83809465 0.8186019  0.82218691]\n",
      "Best cross validation score: 83.81%\n",
      "Optimal parameters: {'classifier__criterion': 'entropy', 'classifier__max_depth': 6, 'classifier__min_samples_split': 5}\n"
     ]
    }
   ],
   "source": [
    "params_dt2 = {'DecisionTree': [{\n",
    "    'classifier__criterion':['entropy'],\n",
    "    'classifier__max_depth':[4, 6, 8],\n",
    "    'classifier__min_samples_split': [5, 10]\n",
    "}]}\n",
    "run_gridsearch(params_dt2, name='DecisionTree1_auc', score='roc_auc')"
   ]
  },
  {
   "cell_type": "code",
   "execution_count": null,
   "metadata": {},
   "outputs": [],
   "source": [
    "params_dt2 = {'DecisionTree': [{\n",
    "    'classifier__criterion':['entropy'],\n",
    "    'classifier__max_depth':[4, 6, 8],\n",
    "    'classifier__min_samples_split': [5, 10]\n",
    "}]}\n",
    "run_gridsearch(params_dt2, name='DecisionTree1_auc', score='roc_auc')"
   ]
  },
  {
   "cell_type": "code",
   "execution_count": null,
   "metadata": {},
   "outputs": [],
   "source": [
    "dt_best_params_auc = tuned_models['DecisionTree1_auc']\n",
    "%store dt_best_params_auc"
   ]
  },
  {
   "cell_type": "markdown",
   "metadata": {},
   "source": [
    "#### Random Forest Grid Search\n"
   ]
  },
  {
   "cell_type": "code",
   "execution_count": null,
   "metadata": {},
   "outputs": [],
   "source": [
    "params_rf1 = {'RandomForest': [{\n",
    "    'classifier__n_estimators':[10, 30, 100],\n",
    "    'classifier__criterion':['gini', 'entropy'],\n",
    "    'classifier__max_depth':[None, 2, 6, 10],\n",
    "    'classifier__min_samples_split':[5, 10],\n",
    "    'classifier__min_samples_leaf':[3, 6]\n",
    "}]}\n",
    "run_gridsearch(params_rf1, name='RandomForest1_auc', score='roc_auc')"
   ]
  },
  {
   "cell_type": "code",
   "execution_count": null,
   "metadata": {},
   "outputs": [],
   "source": [
    "params_rf2 = {'RandomForest': [{\n",
    "    'classifier__max_depth': [5, 6, 8], \n",
    "    'classifier__min_samples_leaf':[1, 2, 3], \n",
    "    'classifier__min_samples_split': [10, 15], \n",
    "    'classifier__n_estimators': [100, 150]\n",
    "}]}\n",
    "run_gridsearch(params_rf2, name='RandomForest2_auc', score='roc_auc')"
   ]
  },
  {
   "cell_type": "code",
   "execution_count": null,
   "metadata": {},
   "outputs": [],
   "source": [
    "params_rf3 = {'RandomForest': [{\n",
    "    'classifier__max_depth': [3, 4, 5], \n",
    "    'classifier__min_samples_leaf':[1], \n",
    "    'classifier__min_samples_split': [8, 10, 12], \n",
    "    'classifier__n_estimators': [150, 200, 300]\n",
    "}]}\n",
    "run_gridsearch(params_rf3, name='RandomForest3_auc', score='roc_auc')"
   ]
  },
  {
   "cell_type": "code",
   "execution_count": null,
   "metadata": {},
   "outputs": [],
   "source": [
    "params_rf4 = {'RandomForest': [{\n",
    "    'classifier__max_depth': [4], \n",
    "    'classifier__min_samples_leaf':[1], \n",
    "    'classifier__min_samples_split': [10], \n",
    "    'classifier__n_estimators': [200, 225, 250]\n",
    "}]}\n",
    "run_gridsearch(params_rf4, name='RandomForest4_auc', score='roc_auc')"
   ]
  },
  {
   "cell_type": "code",
   "execution_count": null,
   "metadata": {},
   "outputs": [],
   "source": [
    "rf_best_params_auc = tuned_models['RandomForest4_auc']\n",
    "%store rf_best_params_auc"
   ]
  },
  {
   "cell_type": "markdown",
   "metadata": {},
   "source": [
    "#### Extra Trees Grid Search\n"
   ]
  },
  {
   "cell_type": "code",
   "execution_count": null,
   "metadata": {},
   "outputs": [],
   "source": [
    "params_et1 = {'ExtraTrees': [{\n",
    "    'classifier__n_estimators':[10, 30, 100],\n",
    "    'classifier__criterion':['gini', 'entropy'],\n",
    "    'classifier__max_depth':[None, 2, 6, 10],\n",
    "    'classifier__min_samples_split':[5, 10],\n",
    "    'classifier__min_samples_leaf':[3, 6]\n",
    "}]}\n",
    "run_gridsearch(params_et1, name='ExtraTrees1_auc', score='roc_auc')"
   ]
  },
  {
   "cell_type": "code",
   "execution_count": null,
   "metadata": {},
   "outputs": [],
   "source": [
    "params_extra2 = {'ExtraTrees': [{\n",
    "    'regressor__n_estimators':[100, 200, 250],\n",
    "    'regressor__criterion':['gini', 'entropy'],\n",
    "    'regressor__max_depth':[3, 5, 6],\n",
    "    'regressor__min_samples_split':[8, 10, 15],\n",
    "    'regressor__min_samples_leaf':[1, 2, 3]\n",
    "    }]}\n",
    "run_gridsearch(params_et1, name='ExtraTrees2_auc', score='roc_auc')"
   ]
  },
  {
   "cell_type": "code",
   "execution_count": null,
   "metadata": {},
   "outputs": [],
   "source": [
    "et_best_params_auc = tuned_models['ExtraTrees2_auc']\n",
    "%store et_best_params_auc"
   ]
  },
  {
   "cell_type": "markdown",
   "metadata": {},
   "source": [
    "#### Gradient Boost Grid Search\n"
   ]
  },
  {
   "cell_type": "code",
   "execution_count": null,
   "metadata": {},
   "outputs": [],
   "source": [
    "params_gb1 = {'GradientBoost': [{\n",
    "    'classifier__loss': ['deviance', 'exponential'],\n",
    "    'classifier__n_estimators':[10, 30, 100],\n",
    "    'classifier__criterion':['friedman_mse', 'squared_error'],\n",
    "    'classifier__max_depth':[2, 6, 10],\n",
    "    'classifier__min_samples_split':[5, 10],\n",
    "    'classifier__min_samples_leaf':[3, 6]\n",
    "}]}\n",
    "run_gridsearch(params_gb1, name='GradientBoost1_auc', score='roc_auc')"
   ]
  },
  {
   "cell_type": "code",
   "execution_count": null,
   "metadata": {},
   "outputs": [],
   "source": [
    "params_gb2 = {'GradientBoost': [{\n",
    "    'regressor__loss': ['exponential'],\n",
    "    'regressor__n_estimators':[100, 200, 300],\n",
    "    'regressor__criterion':['friedman_mse'],\n",
    "    'regressor__max_depth':[5, 6, 8],\n",
    "    'regressor__min_samples_split':[8, 10, 13],\n",
    "    'regressor__min_samples_leaf':[1, 3, 4]\n",
    "}]}\n",
    "run_gridsearch(params_gb2, name='GradientBoost2_auc', score='roc_auc')"
   ]
  },
  {
   "cell_type": "code",
   "execution_count": null,
   "metadata": {},
   "outputs": [],
   "source": [
    "gb_best_params_auc = tuned_models['GradientBoost1_auc']\n",
    "%store gb_best_params_auc"
   ]
  },
  {
   "cell_type": "markdown",
   "metadata": {},
   "source": [
    "# Contact <a class=\"anchor\" id=\"Contact\"></a>\n",
    "\n",
    "Any inquiries, please contact the contributors of this analysis:   \n",
    ">[Czarina Luna](https://www.linkedin.com/in/czarinagluna)  \n",
    "[Justin Sohn](https://www.linkedin.com/in/justin-sohn-689901193/)  \n",
    "[Weston Shuken](https://www.linkedin.com/in/westonshuken/)"
   ]
  }
 ],
 "metadata": {
  "kernelspec": {
   "display_name": "Python (learn-env)",
   "language": "python",
   "name": "learn-env"
  },
  "language_info": {
   "codemirror_mode": {
    "name": "ipython",
    "version": 3
   },
   "file_extension": ".py",
   "mimetype": "text/x-python",
   "name": "python",
   "nbconvert_exporter": "python",
   "pygments_lexer": "ipython3",
   "version": "3.8.5"
  }
 },
 "nbformat": 4,
 "nbformat_minor": 4
}
