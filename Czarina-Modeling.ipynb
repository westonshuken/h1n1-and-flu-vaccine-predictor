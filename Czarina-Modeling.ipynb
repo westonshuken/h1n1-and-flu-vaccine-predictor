{
 "cells": [
  {
   "cell_type": "code",
   "execution_count": 1,
   "metadata": {},
   "outputs": [],
   "source": [
    "import pandas as pd\n",
    "target = pd.read_csv('data/training_set_labels.csv')\n",
    "data = pd.read_csv('data/training_set_features.csv')\n",
    "data = data.merge(target, on=\"respondent_id\").drop(columns='respondent_id')"
   ]
  },
  {
   "cell_type": "code",
   "execution_count": 2,
   "metadata": {},
   "outputs": [],
   "source": [
    "import numpy as np\n",
    "import matplotlib.pyplot as plt\n",
    "import seaborn as sns\n",
    "import time\n",
    "\n",
    "from sklearn.model_selection import train_test_split, GridSearchCV, cross_val_score\n",
    "from sklearn.pipeline import Pipeline\n",
    "from sklearn.preprocessing import StandardScaler, OneHotEncoder, FunctionTransformer\n",
    "from sklearn.impute import SimpleImputer\n",
    "from sklearn.compose import ColumnTransformer\n",
    "from sklearn.linear_model import LogisticRegression\n",
    "from sklearn.tree import DecisionTreeClassifier\n",
    "from sklearn.ensemble import RandomForestClassifier, GradientBoostingClassifier, AdaBoostClassifier\n",
    "from sklearn.metrics import plot_confusion_matrix, recall_score, accuracy_score, precision_score, f1_score, roc_auc_score\n",
    "from sklearn import svm\n",
    "\n",
    "from imblearn.over_sampling import SMOTE\n",
    "from imblearn.pipeline import Pipeline as ImPipeline"
   ]
  },
  {
   "cell_type": "code",
   "execution_count": 3,
   "metadata": {},
   "outputs": [],
   "source": [
    "def grab_numeric(df):\n",
    "    return df.select_dtypes(['float64', 'int64'])\n",
    "\n",
    "GrabNumeric = FunctionTransformer(grab_numeric)"
   ]
  },
  {
   "cell_type": "code",
   "execution_count": 4,
   "metadata": {},
   "outputs": [],
   "source": [
    "numeric_transformer = Pipeline(\n",
    "    steps=[('grab_num', GrabNumeric), \n",
    "           ('num_impute', SimpleImputer(strategy='median', add_indicator=True)), \n",
    "           ('scaler', StandardScaler())])\n",
    "\n",
    "categorical_transformer = Pipeline(\n",
    "    steps=[('cat_impute', SimpleImputer(strategy='most_frequent')),\n",
    "           ('ohe', OneHotEncoder(sparse=False, handle_unknown='ignore'))])\n",
    "\n",
    "num_features = list(range(0, 21)) + [31, 32, 35]\n",
    "cat_features = list(range(21, 31)) + [33, 34]\n",
    "\n",
    "preprocessor = ColumnTransformer(\n",
    "    transformers=[\n",
    "        (\"num\", numeric_transformer, num_features),\n",
    "        (\"cat\", categorical_transformer, cat_features)], remainder='passthrough')"
   ]
  },
  {
   "cell_type": "code",
   "execution_count": 5,
   "metadata": {},
   "outputs": [],
   "source": [
    "models = {'Baseline':\n",
    "              {'regressor': LogisticRegression(random_state=20220124, max_iter=1000),\n",
    "               'preprocessor': preprocessor,\n",
    "               'output': None,\n",
    "               'fit_regressor': None,\n",
    "               'time_ran' : None\n",
    "              },\n",
    "          'DecisionTree':\n",
    "              {'regressor': DecisionTreeClassifier(random_state=20211122),\n",
    "               'preprocessor': preprocessor,\n",
    "               'output': None,\n",
    "               'fit_regressor': None,\n",
    "               'time_ran': None\n",
    "              },\n",
    "          'RandomForest':\n",
    "              {'regressor': RandomForestClassifier(random_state=10151997),\n",
    "               'preprocessor': preprocessor,\n",
    "               'output': None,\n",
    "               'fit_regressor': None,\n",
    "               'time_ran': None\n",
    "              },\n",
    "          'GradientBoost':\n",
    "              {'regressor': GradientBoostingClassifier(random_state=20220125),\n",
    "               'preprocessor': preprocessor,\n",
    "               'output': None,\n",
    "               'fit_regressor': None,\n",
    "               'time_ran': None\n",
    "              },  \n",
    "          'AdaBoost':\n",
    "              {'regressor': AdaBoostClassifier(random_state=20220126),\n",
    "               'preprocessor': preprocessor,\n",
    "               'output': None,\n",
    "               'fit_regressor': None,\n",
    "               'time_ran': None\n",
    "              },  \n",
    "          'SVM':\n",
    "              {'regressor': svm.SVC(random_state=20220127, probability=True),\n",
    "               'preprocessor': preprocessor,\n",
    "               'output': None,\n",
    "               'fit_regressor': None,\n",
    "               'time_ran': None\n",
    "              },  \n",
    "         }"
   ]
  },
  {
   "cell_type": "code",
   "execution_count": 6,
   "metadata": {},
   "outputs": [],
   "source": [
    "def data_split(data, target):\n",
    "    X = data.drop(columns=target)\n",
    "    y = data[target]\n",
    "    X_train, X_test, y_train, y_test = train_test_split(X, y, test_size=.25, random_state=10151997)\n",
    "    return X_train, X_test, y_train, y_test"
   ]
  },
  {
   "cell_type": "code",
   "execution_count": 7,
   "metadata": {},
   "outputs": [],
   "source": [
    "def run_models(models, data, target):\n",
    "    \"\"\"\n",
    "    Takes in dict of models to run, df of dataset, string name of target\n",
    "    Prints every model in dict, its accuracy, precision, auc scores, and time it took to ran \n",
    "    \"\"\"\n",
    "    X_train, X_test, y_train, y_test = data_split(data, target)\n",
    "    for name, model in models.items():\n",
    "        print(name, 'Model:')\n",
    "        X_train_processed = model['preprocessor'].fit_transform(X_train)\n",
    "        X_test_processed = model['preprocessor'].transform(X_test)\n",
    "        model['fit_regressor'] = model['regressor'].fit(X_train_processed, y_train)\n",
    "        model['output'] = [model['fit_regressor'].score(X_test_processed, y_test), \n",
    "                           precision_score(y_test, model['regressor'].predict(X_test_processed)), \n",
    "                           roc_auc_score(y_test, model['regressor'].predict_proba(X_test_processed)[:,1])]\n",
    "        model['time_ran'] = time.asctime()\n",
    "        print(model, '\\n')"
   ]
  },
  {
   "cell_type": "code",
   "execution_count": 8,
   "metadata": {
    "scrolled": false
   },
   "outputs": [
    {
     "name": "stdout",
     "output_type": "stream",
     "text": [
      "Baseline Model:\n",
      "{'regressor': LogisticRegression(max_iter=1000, random_state=20220124), 'preprocessor': ColumnTransformer(remainder='passthrough',\n",
      "                  transformers=[('num',\n",
      "                                 Pipeline(steps=[('grab_num',\n",
      "                                                  FunctionTransformer(func=<function grab_numeric at 0x7fe9d05eaee0>)),\n",
      "                                                 ('num_impute',\n",
      "                                                  SimpleImputer(add_indicator=True,\n",
      "                                                                strategy='median')),\n",
      "                                                 ('scaler', StandardScaler())]),\n",
      "                                 [0, 1, 2, 3, 4, 5, 6, 7, 8, 9, 10, 11, 12, 13,\n",
      "                                  14, 15, 16, 17, 18, 19, 20, 31, 32, 35]),\n",
      "                                ('cat',\n",
      "                                 Pipeline(steps=[('cat_impute',\n",
      "                                                  SimpleImputer(strategy='most_frequent')),\n",
      "                                                 ('ohe',\n",
      "                                                  OneHotEncoder(handle_unknown='ignore',\n",
      "                                                                sparse=False))]),\n",
      "                                 [21, 22, 23, 24, 25, 26, 27, 28, 29, 30, 33,\n",
      "                                  34])]), 'output': [0.8717987119964056, 0.7442502299908004, 0.8970304869821445], 'fit_regressor': LogisticRegression(max_iter=1000, random_state=20220124), 'time_ran': 'Mon Jan 24 13:34:16 2022'} \n",
      "\n",
      "DecisionTree Model:\n",
      "{'regressor': DecisionTreeClassifier(random_state=20211122), 'preprocessor': ColumnTransformer(remainder='passthrough',\n",
      "                  transformers=[('num',\n",
      "                                 Pipeline(steps=[('grab_num',\n",
      "                                                  FunctionTransformer(func=<function grab_numeric at 0x7fe9d05eaee0>)),\n",
      "                                                 ('num_impute',\n",
      "                                                  SimpleImputer(add_indicator=True,\n",
      "                                                                strategy='median')),\n",
      "                                                 ('scaler', StandardScaler())]),\n",
      "                                 [0, 1, 2, 3, 4, 5, 6, 7, 8, 9, 10, 11, 12, 13,\n",
      "                                  14, 15, 16, 17, 18, 19, 20, 31, 32, 35]),\n",
      "                                ('cat',\n",
      "                                 Pipeline(steps=[('cat_impute',\n",
      "                                                  SimpleImputer(strategy='most_frequent')),\n",
      "                                                 ('ohe',\n",
      "                                                  OneHotEncoder(handle_unknown='ignore',\n",
      "                                                                sparse=False))]),\n",
      "                                 [21, 22, 23, 24, 25, 26, 27, 28, 29, 30, 33,\n",
      "                                  34])]), 'output': [0.805900853676801, 0.5313145216792843, 0.7139317562622406], 'fit_regressor': DecisionTreeClassifier(random_state=20211122), 'time_ran': 'Mon Jan 24 13:34:19 2022'} \n",
      "\n",
      "RandomForest Model:\n",
      "{'regressor': RandomForestClassifier(random_state=10151997), 'preprocessor': ColumnTransformer(remainder='passthrough',\n",
      "                  transformers=[('num',\n",
      "                                 Pipeline(steps=[('grab_num',\n",
      "                                                  FunctionTransformer(func=<function grab_numeric at 0x7fe9d05eaee0>)),\n",
      "                                                 ('num_impute',\n",
      "                                                  SimpleImputer(add_indicator=True,\n",
      "                                                                strategy='median')),\n",
      "                                                 ('scaler', StandardScaler())]),\n",
      "                                 [0, 1, 2, 3, 4, 5, 6, 7, 8, 9, 10, 11, 12, 13,\n",
      "                                  14, 15, 16, 17, 18, 19, 20, 31, 32, 35]),\n",
      "                                ('cat',\n",
      "                                 Pipeline(steps=[('cat_impute',\n",
      "                                                  SimpleImputer(strategy='most_frequent')),\n",
      "                                                 ('ohe',\n",
      "                                                  OneHotEncoder(handle_unknown='ignore',\n",
      "                                                                sparse=False))]),\n",
      "                                 [21, 22, 23, 24, 25, 26, 27, 28, 29, 30, 33,\n",
      "                                  34])]), 'output': [0.8713494084169537, 0.8048498845265589, 0.8939599140275009], 'fit_regressor': RandomForestClassifier(random_state=10151997), 'time_ran': 'Mon Jan 24 13:34:28 2022'} \n",
      "\n",
      "GradientBoost Model:\n",
      "{'regressor': GradientBoostingClassifier(random_state=20220125), 'preprocessor': ColumnTransformer(remainder='passthrough',\n",
      "                  transformers=[('num',\n",
      "                                 Pipeline(steps=[('grab_num',\n",
      "                                                  FunctionTransformer(func=<function grab_numeric at 0x7fe9d05eaee0>)),\n",
      "                                                 ('num_impute',\n",
      "                                                  SimpleImputer(add_indicator=True,\n",
      "                                                                strategy='median')),\n",
      "                                                 ('scaler', StandardScaler())]),\n",
      "                                 [0, 1, 2, 3, 4, 5, 6, 7, 8, 9, 10, 11, 12, 13,\n",
      "                                  14, 15, 16, 17, 18, 19, 20, 31, 32, 35]),\n",
      "                                ('cat',\n",
      "                                 Pipeline(steps=[('cat_impute',\n",
      "                                                  SimpleImputer(strategy='most_frequent')),\n",
      "                                                 ('ohe',\n",
      "                                                  OneHotEncoder(handle_unknown='ignore',\n",
      "                                                                sparse=False))]),\n",
      "                                 [21, 22, 23, 24, 25, 26, 27, 28, 29, 30, 33,\n",
      "                                  34])]), 'output': [0.8770405870900105, 0.7742248062015504, 0.9046426239875266], 'fit_regressor': GradientBoostingClassifier(random_state=20220125), 'time_ran': 'Mon Jan 24 13:34:51 2022'} \n",
      "\n",
      "AdaBoost Model:\n",
      "{'regressor': AdaBoostClassifier(random_state=20220126), 'preprocessor': ColumnTransformer(remainder='passthrough',\n",
      "                  transformers=[('num',\n",
      "                                 Pipeline(steps=[('grab_num',\n",
      "                                                  FunctionTransformer(func=<function grab_numeric at 0x7fe9d05eaee0>)),\n",
      "                                                 ('num_impute',\n",
      "                                                  SimpleImputer(add_indicator=True,\n",
      "                                                                strategy='median')),\n",
      "                                                 ('scaler', StandardScaler())]),\n",
      "                                 [0, 1, 2, 3, 4, 5, 6, 7, 8, 9, 10, 11, 12, 13,\n",
      "                                  14, 15, 16, 17, 18, 19, 20, 31, 32, 35]),\n",
      "                                ('cat',\n",
      "                                 Pipeline(steps=[('cat_impute',\n",
      "                                                  SimpleImputer(strategy='most_frequent')),\n",
      "                                                 ('ohe',\n",
      "                                                  OneHotEncoder(handle_unknown='ignore',\n",
      "                                                                sparse=False))]),\n",
      "                                 [21, 22, 23, 24, 25, 26, 27, 28, 29, 30, 33,\n",
      "                                  34])]), 'output': [0.8707503369776846, 0.7467043314500942, 0.8974970118150855], 'fit_regressor': AdaBoostClassifier(random_state=20220126), 'time_ran': 'Mon Jan 24 13:34:59 2022'} \n",
      "\n",
      "SVM Model:\n",
      "{'regressor': SVC(probability=True, random_state=20220127), 'preprocessor': ColumnTransformer(remainder='passthrough',\n",
      "                  transformers=[('num',\n",
      "                                 Pipeline(steps=[('grab_num',\n",
      "                                                  FunctionTransformer(func=<function grab_numeric at 0x7fe9d05eaee0>)),\n",
      "                                                 ('num_impute',\n",
      "                                                  SimpleImputer(add_indicator=True,\n",
      "                                                                strategy='median')),\n",
      "                                                 ('scaler', StandardScaler())]),\n",
      "                                 [0, 1, 2, 3, 4, 5, 6, 7, 8, 9, 10, 11, 12, 13,\n",
      "                                  14, 15, 16, 17, 18, 19, 20, 31, 32, 35]),\n",
      "                                ('cat',\n",
      "                                 Pipeline(steps=[('cat_impute',\n",
      "                                                  SimpleImputer(strategy='most_frequent')),\n",
      "                                                 ('ohe',\n",
      "                                                  OneHotEncoder(handle_unknown='ignore',\n",
      "                                                                sparse=False))]),\n",
      "                                 [21, 22, 23, 24, 25, 26, 27, 28, 29, 30, 33,\n",
      "                                  34])]), 'output': [0.871499176276771, 0.7828877005347593, 0.8876593073952977], 'fit_regressor': SVC(probability=True, random_state=20220127), 'time_ran': 'Mon Jan 24 13:41:03 2022'} \n",
      "\n"
     ]
    }
   ],
   "source": [
    "run_models(models, data, 'h1n1_vaccine')"
   ]
  },
  {
   "cell_type": "code",
   "execution_count": 9,
   "metadata": {},
   "outputs": [],
   "source": [
    "def run_gridsearch(models, params, data, target):\n",
    "    X_train, X_test, y_train, y_test = data_split(data, target)\n",
    "    for model in models:\n",
    "        if model in params.keys():\n",
    "            print(model, 'Grid Search:')\n",
    "            pipe = Pipeline(steps=[('col_transformer', models[model]['preprocessor']), \n",
    "                             ('regressor', models[model]['regressor'])])\n",
    "            grid = params[model]\n",
    "            gridsearch = GridSearchCV(estimator=pipe, param_grid=grid, scoring='precision', cv=5)\n",
    "            gridsearch.fit(X_train, y_train)\n",
    "            print(f'Cross validation mean: {gridsearch.cv_results_[\"mean_test_score\"]}')\n",
    "            print(f'Test precision: {gridsearch.best_score_ :.2%}')\n",
    "            print(f'Optimal prameters: {gridsearch.best_params_}')"
   ]
  },
  {
   "cell_type": "code",
   "execution_count": 10,
   "metadata": {},
   "outputs": [],
   "source": [
    "params = {'DecisionTree': [{'regressor__max_depth': [None, 2, 6, 10], \n",
    "         'regressor__min_samples_split': [5, 10]}]}"
   ]
  },
  {
   "cell_type": "code",
   "execution_count": 11,
   "metadata": {},
   "outputs": [
    {
     "name": "stdout",
     "output_type": "stream",
     "text": [
      "DecisionTree Grid Search:\n",
      "Cross validation mean: [0.55394938 0.58223577 0.68428017 0.68428017 0.70597741 0.70597741\n",
      " 0.65711123 0.66154148]\n",
      "Test precision: 70.60%\n",
      "Optimal prameters: {'regressor__max_depth': 6, 'regressor__min_samples_split': 5}\n"
     ]
    }
   ],
   "source": [
    "run_gridsearch(models, params, data, 'h1n1_vaccine')"
   ]
  },
  {
   "cell_type": "code",
   "execution_count": null,
   "metadata": {},
   "outputs": [],
   "source": []
  },
  {
   "cell_type": "code",
   "execution_count": null,
   "metadata": {},
   "outputs": [],
   "source": []
  },
  {
   "cell_type": "code",
   "execution_count": null,
   "metadata": {},
   "outputs": [],
   "source": []
  },
  {
   "cell_type": "code",
   "execution_count": null,
   "metadata": {},
   "outputs": [],
   "source": []
  },
  {
   "cell_type": "code",
   "execution_count": null,
   "metadata": {},
   "outputs": [],
   "source": [
    "sm = SMOTE(sampling_strategy='auto', random_state=42)"
   ]
  },
  {
   "cell_type": "code",
   "execution_count": null,
   "metadata": {},
   "outputs": [],
   "source": [
    "sm2 = SMOTE(sampling_strategy=0.8, random_state=42)"
   ]
  },
  {
   "cell_type": "code",
   "execution_count": null,
   "metadata": {},
   "outputs": [],
   "source": [
    "X_train_clean = X_train.select_dtypes('float64').dropna()\n",
    "y_train_clean = y_train[X_train_clean.index]"
   ]
  },
  {
   "cell_type": "code",
   "execution_count": null,
   "metadata": {},
   "outputs": [],
   "source": [
    "X_clean_resmp, y_clean_resmp = sm.fit_resample(X_train_clean, y_train_clean)\n",
    "\n",
    "y_clean_resmp.value_counts()"
   ]
  },
  {
   "cell_type": "code",
   "execution_count": null,
   "metadata": {},
   "outputs": [],
   "source": [
    "X_clean_resmp2, y_clean_resmp2 = sm2.fit_resample(X_train_clean, y_train_clean)\n",
    "\n",
    "y_clean_resmp2.value_counts()"
   ]
  },
  {
   "cell_type": "code",
   "execution_count": null,
   "metadata": {},
   "outputs": [],
   "source": [
    "imb_pipe = ImPipeline(steps=[('ct', CT),\n",
    "                             ('sm', SMOTE(random_state=42)),\n",
    "                            ('rfc', RandomForestClassifier(random_state=42))])"
   ]
  },
  {
   "cell_type": "code",
   "execution_count": null,
   "metadata": {},
   "outputs": [],
   "source": [
    "imb_pipe.fit(X_train, y_train)"
   ]
  },
  {
   "cell_type": "code",
   "execution_count": null,
   "metadata": {},
   "outputs": [],
   "source": [
    "imb_pipe.score(X_train, y_train)"
   ]
  },
  {
   "cell_type": "code",
   "execution_count": null,
   "metadata": {},
   "outputs": [],
   "source": [
    "parameters = {'rfc__criterion': ['gini', 'entropy'],\n",
    "          'rfc__min_samples_leaf': [1, 5, 10],\n",
    "          'sm__k_neighbors': [3, 5, 9]}\n",
    "\n",
    "gs = GridSearchCV(estimator=imb_pipe,\n",
    "                 param_grid=parameters,\n",
    "                 cv=10)"
   ]
  },
  {
   "cell_type": "code",
   "execution_count": null,
   "metadata": {},
   "outputs": [],
   "source": []
  },
  {
   "cell_type": "code",
   "execution_count": null,
   "metadata": {},
   "outputs": [],
   "source": [
    "params = {'RandomForest': {\n",
    "    'n__estimators':[10, 30, 100],\n",
    "    'criterion':['gini', 'entropy'],\n",
    "    'max__depth':[None, 2, 6, 10],\n",
    "    'min__samples_split':[5, 10],\n",
    "    'min__samples_leaf':[3, 6]}}"
   ]
  }
 ],
 "metadata": {
  "kernelspec": {
   "display_name": "Python (learn-env)",
   "language": "python",
   "name": "learn-env"
  },
  "language_info": {
   "codemirror_mode": {
    "name": "ipython",
    "version": 3
   },
   "file_extension": ".py",
   "mimetype": "text/x-python",
   "name": "python",
   "nbconvert_exporter": "python",
   "pygments_lexer": "ipython3",
   "version": "3.8.5"
  }
 },
 "nbformat": 4,
 "nbformat_minor": 4
}
